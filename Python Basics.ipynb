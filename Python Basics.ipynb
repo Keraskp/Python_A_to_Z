{
 "cells": [
  {
   "cell_type": "markdown",
   "id": "80f82c2a",
   "metadata": {},
   "source": [
    "# Introduction to Python:\n",
    "Python is a programming language which is :\n",
    "- General-purpose\n",
    "- Interpreted\n",
    "- Object Oriented \n",
    "- High-Level\n",
    "- Dynamically-typed\n",
    "- Supports Procedural-programming\n",
    "- Supports Multi-Threading\n",
    "\n",
    "Guido Van Rossum created python in 1989 named his favourite show \"Monty Python's Favourite Circus\".\n",
    "\n",
    "Python is not backward-compatible with earlier versions like JAVA.\n",
    "e.g. Python 3.x might not be compatible with Python 2.y.\n"
   ]
  },
  {
   "cell_type": "markdown",
   "id": "9d5df680",
   "metadata": {},
   "source": [
    "### Getting Started : Basic Arithmetic Operations\n",
    "Done on IDLE"
   ]
  },
  {
   "cell_type": "code",
   "execution_count": 1,
   "id": "e27d0219",
   "metadata": {},
   "outputs": [
    {
     "data": {
      "text/plain": [
       "5"
      ]
     },
     "execution_count": 1,
     "metadata": {},
     "output_type": "execute_result"
    }
   ],
   "source": [
    "2+3 #Addition "
   ]
  },
  {
   "cell_type": "code",
   "execution_count": 2,
   "id": "a0bf4b04",
   "metadata": {},
   "outputs": [
    {
     "data": {
      "text/plain": [
       "1"
      ]
     },
     "execution_count": 2,
     "metadata": {},
     "output_type": "execute_result"
    }
   ],
   "source": [
    "9-8 #Subtraction"
   ]
  },
  {
   "cell_type": "code",
   "execution_count": 3,
   "id": "6b7c486c",
   "metadata": {},
   "outputs": [
    {
     "data": {
      "text/plain": [
       "24"
      ]
     },
     "execution_count": 3,
     "metadata": {},
     "output_type": "execute_result"
    }
   ],
   "source": [
    "4*6 #Mutplication"
   ]
  },
  {
   "cell_type": "code",
   "execution_count": 4,
   "id": "b2bd39da",
   "metadata": {},
   "outputs": [
    {
     "data": {
      "text/plain": [
       "2.5"
      ]
     },
     "execution_count": 4,
     "metadata": {},
     "output_type": "execute_result"
    }
   ],
   "source": [
    "5/2 #Float Division"
   ]
  },
  {
   "cell_type": "code",
   "execution_count": 5,
   "id": "9a81d1a0",
   "metadata": {},
   "outputs": [
    {
     "data": {
      "text/plain": [
       "2"
      ]
     },
     "execution_count": 5,
     "metadata": {},
     "output_type": "execute_result"
    }
   ],
   "source": [
    "5//2 #Int Division"
   ]
  },
  {
   "cell_type": "code",
   "execution_count": 6,
   "id": "46a4adac",
   "metadata": {},
   "outputs": [
    {
     "data": {
      "text/plain": [
       "8"
      ]
     },
     "execution_count": 6,
     "metadata": {},
     "output_type": "execute_result"
    }
   ],
   "source": [
    "2**3 #Exponent"
   ]
  },
  {
   "cell_type": "code",
   "execution_count": 7,
   "id": "1d91629b",
   "metadata": {},
   "outputs": [
    {
     "data": {
      "text/plain": [
       "1"
      ]
     },
     "execution_count": 7,
     "metadata": {},
     "output_type": "execute_result"
    }
   ],
   "source": [
    "10%3 #Modulus "
   ]
  },
  {
   "cell_type": "code",
   "execution_count": 8,
   "id": "71692e97",
   "metadata": {},
   "outputs": [
    {
     "data": {
      "text/plain": [
       "30"
      ]
     },
     "execution_count": 8,
     "metadata": {},
     "output_type": "execute_result"
    }
   ],
   "source": [
    "(8+2)*3 #BODMAS"
   ]
  },
  {
   "cell_type": "markdown",
   "id": "f0bf3a79",
   "metadata": {},
   "source": [
    "### Strings :"
   ]
  },
  {
   "cell_type": "code",
   "execution_count": 9,
   "id": "38134f85",
   "metadata": {},
   "outputs": [
    {
     "data": {
      "text/plain": [
       "'aditya'"
      ]
     },
     "execution_count": 9,
     "metadata": {},
     "output_type": "execute_result"
    }
   ],
   "source": [
    "'aditya' #Single quote also gets printed"
   ]
  },
  {
   "cell_type": "code",
   "execution_count": 10,
   "id": "e5d02304",
   "metadata": {},
   "outputs": [
    {
     "name": "stdout",
     "output_type": "stream",
     "text": [
      "aditya\n"
     ]
    }
   ],
   "source": [
    "print('aditya') #pass parameter"
   ]
  },
  {
   "cell_type": "code",
   "execution_count": 11,
   "id": "42828cc6",
   "metadata": {},
   "outputs": [
    {
     "name": "stdout",
     "output_type": "stream",
     "text": [
      "aditya's laptop\n"
     ]
    }
   ],
   "source": [
    "print(\"aditya's laptop\")"
   ]
  },
  {
   "cell_type": "code",
   "execution_count": 12,
   "id": "87112e67",
   "metadata": {},
   "outputs": [
    {
     "name": "stdout",
     "output_type": "stream",
     "text": [
      "aditya \"laptop\"\n"
     ]
    }
   ],
   "source": [
    "print('aditya \"laptop\"')"
   ]
  },
  {
   "cell_type": "code",
   "execution_count": 13,
   "id": "66f2ae43",
   "metadata": {},
   "outputs": [
    {
     "name": "stdout",
     "output_type": "stream",
     "text": [
      "aditya's \"laptop\"\n"
     ]
    }
   ],
   "source": [
    "print('aditya\\'s \"laptop\"') #\\ is used to ignore special meaning of '"
   ]
  },
  {
   "cell_type": "code",
   "execution_count": 14,
   "id": "22fa339d",
   "metadata": {},
   "outputs": [
    {
     "data": {
      "text/plain": [
       "'adityaaditya'"
      ]
     },
     "execution_count": 14,
     "metadata": {},
     "output_type": "execute_result"
    }
   ],
   "source": [
    "'aditya'+'aditya' #concatenating"
   ]
  },
  {
   "cell_type": "code",
   "execution_count": 15,
   "id": "7ad79d0f",
   "metadata": {},
   "outputs": [
    {
     "data": {
      "text/plain": [
       "'adityaadityaadityaadityaadityaadityaadityaadityaadityaaditya'"
      ]
     },
     "execution_count": 15,
     "metadata": {},
     "output_type": "execute_result"
    }
   ],
   "source": [
    "'aditya'*10"
   ]
  },
  {
   "cell_type": "code",
   "execution_count": 16,
   "id": "f49cc405",
   "metadata": {},
   "outputs": [
    {
     "name": "stdout",
     "output_type": "stream",
     "text": [
      "c:\\docs\n",
      "avin\n"
     ]
    }
   ],
   "source": [
    "print('c:\\docs\\navin') #\\n stands for newline escape-sequence"
   ]
  },
  {
   "cell_type": "code",
   "execution_count": 17,
   "id": "0feab0e9",
   "metadata": {},
   "outputs": [
    {
     "name": "stdout",
     "output_type": "stream",
     "text": [
      "c:\\docs\\navin\n",
      "navin's 'Laptop'\n"
     ]
    }
   ],
   "source": [
    "print(r'c:\\docs\\navin') #Raw String prints as it is. Ignore escape sequence\n",
    "print(r\"navin's 'Laptop'\")"
   ]
  },
  {
   "cell_type": "markdown",
   "id": "2375106a",
   "metadata": {},
   "source": [
    "### Variables in Python :\n",
    "- Python is a Dynamically-Typed Language. We do not have to specify data type of Variables.\n",
    "- Data types are the classification or categorization of data items. It represents the kind of value that tells what operations can be performed on a particular data.\n",
    "- Since everything is an object in Python programming, data types are actually classes and variables are instance (object) of these classes.\n",
    "\n",
    "Standard/Built-in Data Types in Python :\n",
    "![Data-types](https://media.geeksforgeeks.org/wp-content/uploads/20191023173512/Python-data-structure.jpg)"
   ]
  },
  {
   "cell_type": "code",
   "execution_count": 18,
   "id": "cef50603",
   "metadata": {},
   "outputs": [],
   "source": [
    "x = 2 # Variable is container. #x is the name of the container."
   ]
  },
  {
   "cell_type": "code",
   "execution_count": 19,
   "id": "2c82015e",
   "metadata": {},
   "outputs": [
    {
     "name": "stdout",
     "output_type": "stream",
     "text": [
      "8 <class 'int'>\n"
     ]
    }
   ],
   "source": [
    "y = 3 # Assignment Variables. Value of variables can be changed\n",
    "x = 5 #int data-type\n",
    "print(x+y, type(x+y))"
   ]
  },
  {
   "cell_type": "markdown",
   "id": "e408afb1",
   "metadata": {},
   "source": [
    "#### Strings : "
   ]
  },
  {
   "cell_type": "code",
   "execution_count": 20,
   "id": "4ed61cf5",
   "metadata": {
    "scrolled": true
   },
   "outputs": [
    {
     "name": "stdout",
     "output_type": "stream",
     "text": [
      "youtuberocks <class 'str'>\n"
     ]
    }
   ],
   "source": [
    "name = 'youtube' #str Data-type. \n",
    "#String is an array of characters. Unlike C, it doesn't have null character '\\0' at the end.\n",
    "print(name + 'rocks', type(name))"
   ]
  },
  {
   "cell_type": "code",
   "execution_count": 21,
   "id": "4c9743e1",
   "metadata": {},
   "outputs": [
    {
     "name": "stdout",
     "output_type": "stream",
     "text": [
      "y\n",
      "e\n"
     ]
    }
   ],
   "source": [
    "print(name[0]) #indexing starts from 0\n",
    "print(name[6])"
   ]
  },
  {
   "cell_type": "code",
   "execution_count": 22,
   "id": "deabdc04",
   "metadata": {},
   "outputs": [
    {
     "name": "stdout",
     "output_type": "stream",
     "text": [
      "e\n",
      "y\n"
     ]
    }
   ],
   "source": [
    "print(name[-1]) # Stars from right to left\n",
    "print(name[-7])"
   ]
  },
  {
   "cell_type": "code",
   "execution_count": 23,
   "id": "3b0272cc",
   "metadata": {},
   "outputs": [
    {
     "data": {
      "text/plain": [
       "'yo'"
      ]
     },
     "execution_count": 23,
     "metadata": {},
     "output_type": "execute_result"
    }
   ],
   "source": [
    "name[0:2] #last index is exclusive"
   ]
  },
  {
   "cell_type": "code",
   "execution_count": 24,
   "id": "341417cb",
   "metadata": {},
   "outputs": [
    {
     "data": {
      "text/plain": [
       "'utu'"
      ]
     },
     "execution_count": 24,
     "metadata": {},
     "output_type": "execute_result"
    }
   ],
   "source": [
    "name[2:5]"
   ]
  },
  {
   "cell_type": "code",
   "execution_count": 25,
   "id": "79087840",
   "metadata": {},
   "outputs": [
    {
     "data": {
      "text/plain": [
       "'outube'"
      ]
     },
     "execution_count": 25,
     "metadata": {},
     "output_type": "execute_result"
    }
   ],
   "source": [
    "name[1:]"
   ]
  },
  {
   "cell_type": "code",
   "execution_count": 26,
   "id": "359aecad",
   "metadata": {},
   "outputs": [
    {
     "data": {
      "text/plain": [
       "'youtu'"
      ]
     },
     "execution_count": 26,
     "metadata": {},
     "output_type": "execute_result"
    }
   ],
   "source": [
    "name[:5]"
   ]
  },
  {
   "cell_type": "code",
   "execution_count": 27,
   "id": "1b6d1e05",
   "metadata": {},
   "outputs": [
    {
     "data": {
      "text/plain": [
       "'tube'"
      ]
     },
     "execution_count": 27,
     "metadata": {},
     "output_type": "execute_result"
    }
   ],
   "source": [
    "name[3:10] #No error, defaults to last index"
   ]
  },
  {
   "cell_type": "code",
   "execution_count": 28,
   "id": "e5740430",
   "metadata": {},
   "outputs": [],
   "source": [
    "#name[0] = 'a' # gives error. Strings are immutable."
   ]
  },
  {
   "cell_type": "code",
   "execution_count": 29,
   "id": "2ae169ff",
   "metadata": {},
   "outputs": [
    {
     "name": "stdout",
     "output_type": "stream",
     "text": [
      "7\n"
     ]
    }
   ],
   "source": [
    "print(len(name)) #in-built function in class str"
   ]
  },
  {
   "cell_type": "markdown",
   "id": "2c11cea5",
   "metadata": {},
   "source": [
    "#### Lists :\n",
    "- Lists are mutable, can be changed\n",
    "- Lists can have non-homogeneous data\n",
    "- Lists are denoted by '[ ]'"
   ]
  },
  {
   "cell_type": "code",
   "execution_count": 30,
   "id": "e7279362",
   "metadata": {},
   "outputs": [],
   "source": [
    "nums = [25,12,36,95,14]"
   ]
  },
  {
   "cell_type": "code",
   "execution_count": 31,
   "id": "4ff54648",
   "metadata": {},
   "outputs": [
    {
     "data": {
      "text/plain": [
       "[36, 95, 14]"
      ]
     },
     "execution_count": 31,
     "metadata": {},
     "output_type": "execute_result"
    }
   ],
   "source": [
    "nums[2:]"
   ]
  },
  {
   "cell_type": "code",
   "execution_count": 32,
   "id": "a8fae0c9",
   "metadata": {},
   "outputs": [
    {
     "data": {
      "text/plain": [
       "14"
      ]
     },
     "execution_count": 32,
     "metadata": {},
     "output_type": "execute_result"
    }
   ],
   "source": [
    "nums[-1]"
   ]
  },
  {
   "cell_type": "code",
   "execution_count": 33,
   "id": "3afe9d7a",
   "metadata": {},
   "outputs": [
    {
     "name": "stdout",
     "output_type": "stream",
     "text": [
      "<class 'list'>\n"
     ]
    }
   ],
   "source": [
    "names = ['navin','kiran','jhon']\n",
    "print(type(names))"
   ]
  },
  {
   "cell_type": "code",
   "execution_count": 34,
   "id": "2270c965",
   "metadata": {},
   "outputs": [
    {
     "name": "stdout",
     "output_type": "stream",
     "text": [
      "[9.5, 'Aditya', 25]\n"
     ]
    }
   ],
   "source": [
    "values = [9.5, 'Aditya', 25]\n",
    "print(values)"
   ]
  },
  {
   "cell_type": "code",
   "execution_count": 35,
   "id": "9b09317e",
   "metadata": {},
   "outputs": [
    {
     "name": "stdout",
     "output_type": "stream",
     "text": [
      "[[25, 12, 36, 95, 14], ['navin', 'kiran', 'jhon']]\n"
     ]
    }
   ],
   "source": [
    "mil = [nums,names] #2D List\n",
    "print(mil) "
   ]
  },
  {
   "cell_type": "code",
   "execution_count": 36,
   "id": "37cbf8b7",
   "metadata": {},
   "outputs": [
    {
     "name": "stdout",
     "output_type": "stream",
     "text": [
      "[25, 12, 36, 95, 14, 45]\n"
     ]
    }
   ],
   "source": [
    "nums.append(45) #.appends inserts as last\n",
    "print(nums)"
   ]
  },
  {
   "cell_type": "code",
   "execution_count": 37,
   "id": "da74dc74",
   "metadata": {},
   "outputs": [
    {
     "name": "stdout",
     "output_type": "stream",
     "text": [
      "[25, 12, 77, 36, 95, 14, 45]\n"
     ]
    }
   ],
   "source": [
    "nums.insert(2,77) #inserts at given index. .insert(idx,item)\n",
    "print(nums)"
   ]
  },
  {
   "cell_type": "code",
   "execution_count": 38,
   "id": "88887e8a",
   "metadata": {},
   "outputs": [
    {
     "name": "stdout",
     "output_type": "stream",
     "text": [
      "[25, 12, 77, 36, 95, 45]\n"
     ]
    }
   ],
   "source": [
    "nums.remove(14) #removes item. remove(item)\n",
    "print(nums)"
   ]
  },
  {
   "cell_type": "code",
   "execution_count": 39,
   "id": "108305e4",
   "metadata": {},
   "outputs": [
    {
     "name": "stdout",
     "output_type": "stream",
     "text": [
      "[25, 77, 36, 95, 45]\n"
     ]
    }
   ],
   "source": [
    "nums.pop(1) #pop item at idx 1 .pop(idx)\n",
    "print(nums)"
   ]
  },
  {
   "cell_type": "code",
   "execution_count": 40,
   "id": "11a4c338",
   "metadata": {},
   "outputs": [
    {
     "name": "stdout",
     "output_type": "stream",
     "text": [
      "[25, 77, 36, 95]\n"
     ]
    }
   ],
   "source": [
    "nums.pop() #pop without arguement removes last item\n",
    "print(nums)"
   ]
  },
  {
   "cell_type": "code",
   "execution_count": 41,
   "id": "67ad5ca5",
   "metadata": {},
   "outputs": [
    {
     "name": "stdout",
     "output_type": "stream",
     "text": [
      "[25, 77]\n"
     ]
    }
   ],
   "source": [
    "del nums[2:] # delete multiple items\n",
    "print(nums)"
   ]
  },
  {
   "cell_type": "code",
   "execution_count": 42,
   "id": "eb279071",
   "metadata": {},
   "outputs": [
    {
     "name": "stdout",
     "output_type": "stream",
     "text": [
      "[25, 77, 29, 12, 14, 36]\n"
     ]
    }
   ],
   "source": [
    "nums.extend([29,12,14,36]) #add multiple items\n",
    "print(nums)"
   ]
  },
  {
   "cell_type": "code",
   "execution_count": 43,
   "id": "d3a4f4f6",
   "metadata": {},
   "outputs": [
    {
     "name": "stdout",
     "output_type": "stream",
     "text": [
      "[25, 77, 29, 12, 14, 36] 12 77 6\n"
     ]
    }
   ],
   "source": [
    "print(nums,min(nums),max(nums), len(nums))"
   ]
  },
  {
   "cell_type": "code",
   "execution_count": 44,
   "id": "7ae2d4a4",
   "metadata": {},
   "outputs": [
    {
     "name": "stdout",
     "output_type": "stream",
     "text": [
      "193\n"
     ]
    }
   ],
   "source": [
    "print(sum(nums))"
   ]
  },
  {
   "cell_type": "code",
   "execution_count": 45,
   "id": "2f378c2f",
   "metadata": {},
   "outputs": [
    {
     "data": {
      "text/plain": [
       "[12, 14, 25, 29, 36, 77]"
      ]
     },
     "execution_count": 45,
     "metadata": {},
     "output_type": "execute_result"
    }
   ],
   "source": [
    "nums.sort() #Sort function\n",
    "nums"
   ]
  },
  {
   "cell_type": "markdown",
   "id": "3883481b",
   "metadata": {},
   "source": [
    "#### Tuple :\n",
    "- Tuples is like list but immutable\n",
    "- It is an ordered collection of items\n",
    "- Use paranthesis to define a tuple\n",
    "- Since we don't change values in tuple, iterations is faster in tuple in list."
   ]
  },
  {
   "cell_type": "code",
   "execution_count": 46,
   "id": "2ecd0693",
   "metadata": {},
   "outputs": [],
   "source": [
    "tup = (21,36,14,25)"
   ]
  },
  {
   "cell_type": "code",
   "execution_count": 47,
   "id": "e5962bd6",
   "metadata": {},
   "outputs": [
    {
     "data": {
      "text/plain": [
       "36"
      ]
     },
     "execution_count": 47,
     "metadata": {},
     "output_type": "execute_result"
    }
   ],
   "source": [
    "tup[1]"
   ]
  },
  {
   "cell_type": "code",
   "execution_count": 48,
   "id": "d703e626",
   "metadata": {},
   "outputs": [],
   "source": [
    "#tup[1] = 33 #Error : tuple object does not support item assignment"
   ]
  },
  {
   "cell_type": "code",
   "execution_count": 49,
   "id": "c776fe6e",
   "metadata": {},
   "outputs": [],
   "source": [
    "tup1 = (1,2,4,6,3,6,9,2,6,8,4,4,4,12,7,92,7)"
   ]
  },
  {
   "cell_type": "code",
   "execution_count": 50,
   "id": "50f057b5",
   "metadata": {},
   "outputs": [
    {
     "data": {
      "text/plain": [
       "4"
      ]
     },
     "execution_count": 50,
     "metadata": {},
     "output_type": "execute_result"
    }
   ],
   "source": [
    "tup1.count(4) # returns the occurence of an item. Also in list"
   ]
  },
  {
   "cell_type": "code",
   "execution_count": 51,
   "id": "977bb3b5",
   "metadata": {},
   "outputs": [
    {
     "data": {
      "text/plain": [
       "2"
      ]
     },
     "execution_count": 51,
     "metadata": {},
     "output_type": "execute_result"
    }
   ],
   "source": [
    "tup1.index(4)  # return index of item. from 0 to last, it returns index of first occurence"
   ]
  },
  {
   "cell_type": "markdown",
   "id": "86c5f48d",
   "metadata": {},
   "source": [
    "#### Set :\n",
    "- Set data structure is also non-homogeneous data structure but unordered.\n",
    "- Set can be represented by { }\n",
    "- Set will not allow duplicate elements\n",
    "- Set is mutable i.e we can make any changes in set."
   ]
  },
  {
   "cell_type": "code",
   "execution_count": 52,
   "id": "3d99ba77",
   "metadata": {},
   "outputs": [
    {
     "name": "stdout",
     "output_type": "stream",
     "text": [
      "{1, 3, 5, 6, 7}\n"
     ]
    }
   ],
   "source": [
    "s = {3,1,6,7,5}\n",
    "print(s) #looks like set is sorted. "
   ]
  },
  {
   "cell_type": "code",
   "execution_count": 53,
   "id": "b869cf4c",
   "metadata": {},
   "outputs": [
    {
     "name": "stdout",
     "output_type": "stream",
     "text": [
      "{2, 5, 6, 7, 8, 9}\n"
     ]
    }
   ],
   "source": [
    "s = {2,6,5,7,2,9,8,9,9,9,9}\n",
    "print(s) #Uses a concept of hash"
   ]
  },
  {
   "cell_type": "code",
   "execution_count": 54,
   "id": "1301b8a4",
   "metadata": {},
   "outputs": [
    {
     "data": {
      "text/plain": [
       "{2, 5, 6, 7, 8, 9}"
      ]
     },
     "execution_count": 54,
     "metadata": {},
     "output_type": "execute_result"
    }
   ],
   "source": [
    "s #press tab to view all method and attributes."
   ]
  },
  {
   "cell_type": "code",
   "execution_count": 55,
   "id": "d25e2193",
   "metadata": {},
   "outputs": [],
   "source": [
    "# s[2] set does not support indexing"
   ]
  },
  {
   "cell_type": "markdown",
   "id": "036aa2ce",
   "metadata": {},
   "source": [
    "### Help Section in Python :"
   ]
  },
  {
   "cell_type": "code",
   "execution_count": 56,
   "id": "09b3b38a",
   "metadata": {},
   "outputs": [],
   "source": [
    "#help()"
   ]
  },
  {
   "cell_type": "markdown",
   "id": "6f6f0da3",
   "metadata": {},
   "source": [
    "### Memory Management in Python :\n",
    "**Memory has two parts stack memory and heap memory :-**\n",
    "- Stack Memory : all the methods/method calls , references(variables) are store in stack memory.\n",
    "- Heap Memory : all the objects are stored in heap.\n",
    "\n",
    "Unlike in other programming languages , in python whenever a variable is assigned a value , the python memory manager will check if an object with that value is already available in the memory . If object is already present in memory , then this variable points to that object instead of creating a new object with the same value.\n",
    "\n",
    "If object with that value is not available in memory(heap) , python memory manager will create a new object with the specified value and this variable will point to this newly created object on heap(memory).\n",
    "\n",
    "\n",
    "**Variables in Python are not buckets that contain things, but pointers: variables point to objects.**\n",
    "- In Python, everything is an Object. \n",
    "- Variable names are just tokens to refer to that Object.\n",
    "\n",
    "In python , all objects are derived from PyObject a struct which has two properties reference count and pointer to the object.\n",
    "\n",
    "**Garbage Collector :**\n",
    "Python uses below 2 algorithms for garbage collection (Deleting Un-used objects):\n",
    "\n",
    "- Reference counting : Reference counting is a simple technique in which , whenever the reference count of an object reaches to “0” , then it is eligible for garbage collection and the memory allocated for that object is automatically de-allocated.\n",
    "\n",
    "- Generational garbage collection : All python objects are categorized into 3 generations. Each generation has a predefined threshold , threshold is nothing but it is an indicator for garbage collector on when to invoke garbage collection.\n"
   ]
  },
  {
   "cell_type": "code",
   "execution_count": 57,
   "id": "34ea9204",
   "metadata": {},
   "outputs": [
    {
     "name": "stdout",
     "output_type": "stream",
     "text": [
      "2620442477072 2620442477072 2620442477072 2620442477072\n"
     ]
    }
   ],
   "source": [
    "x = 10 #int object with value 10 is allocated memory. var x points to it.\n",
    "y = x #y points to x, x points to 10, thus y points to 10.\n",
    "z = 10 #An object with value 10 already exists therefore, z also points to the same 10 that x is pointing\n",
    "\n",
    "print(id(x), id(10), id(y), id(z))"
   ]
  },
  {
   "cell_type": "code",
   "execution_count": 58,
   "id": "ba14972a",
   "metadata": {},
   "outputs": [
    {
     "name": "stdout",
     "output_type": "stream",
     "text": [
      "2620442477104 2620442477072 2620442477072 2620442477072\n",
      "10\n"
     ]
    }
   ],
   "source": [
    "x += 1 #11 is a new object with value 11. x points to a new object.\n",
    "# But y still points to 10\n",
    "print(id(x), id(10), id(y), id(z))\n",
    "print(y)"
   ]
  },
  {
   "cell_type": "markdown",
   "id": "eb157996",
   "metadata": {},
   "source": [
    "### Assignments only points a variable to an object. Assignments don't copy anything :"
   ]
  },
  {
   "cell_type": "code",
   "execution_count": 59,
   "id": "0c896f52",
   "metadata": {},
   "outputs": [
    {
     "name": "stdout",
     "output_type": "stream",
     "text": [
      "True\n",
      "2620520870656 2620520870656\n"
     ]
    }
   ],
   "source": [
    "x = [1,2,3] #Both refer to same location in memory.\n",
    "y = x \n",
    "print(x==y)\n",
    "print(id(x),id(y))"
   ]
  },
  {
   "cell_type": "code",
   "execution_count": 60,
   "id": "06422280",
   "metadata": {},
   "outputs": [
    {
     "name": "stdout",
     "output_type": "stream",
     "text": [
      "[1, 2, 3, 4] [1, 2, 3, 4]\n",
      "True\n",
      "2620520870656 2620520870656\n"
     ]
    }
   ],
   "source": [
    "x.append(4)\n",
    "print(x,y)\n",
    "print(x==y)\n",
    "print(id(x),id(y))"
   ]
  },
  {
   "cell_type": "markdown",
   "id": "97f65871",
   "metadata": {},
   "source": [
    "### Making copies of Objects in Python :\n",
    "=, copy(), deepcopy()"
   ]
  },
  {
   "cell_type": "code",
   "execution_count": 61,
   "id": "f65a2d6d",
   "metadata": {},
   "outputs": [
    {
     "name": "stdout",
     "output_type": "stream",
     "text": [
      "[1, 2, 3, 4] [1, 2, 3, 4]\n"
     ]
    }
   ],
   "source": [
    "list1 = [1,2,3,4]\n",
    "list2 = list1\n",
    "print(list1,list2)"
   ]
  },
  {
   "cell_type": "code",
   "execution_count": 62,
   "id": "0e1d09fc",
   "metadata": {},
   "outputs": [
    {
     "name": "stdout",
     "output_type": "stream",
     "text": [
      "[1, 100, 3, 4] [1, 100, 3, 4]\n"
     ]
    }
   ],
   "source": [
    "list2[1] = 100 #Value got changed in both of them. Both variables pointing to same object\n",
    "print(list1,list2) "
   ]
  },
  {
   "cell_type": "code",
   "execution_count": 63,
   "id": "0adf0232",
   "metadata": {},
   "outputs": [
    {
     "name": "stdout",
     "output_type": "stream",
     "text": [
      "True\n",
      "2620520873024 2620520791232\n"
     ]
    }
   ],
   "source": [
    "list1 = [1,2,3,4]\n",
    "list2 = list1.copy()\n",
    "print(list1==list2) #Because all elements are equal\n",
    "print(id(list1),id(list2))"
   ]
  },
  {
   "cell_type": "code",
   "execution_count": 64,
   "id": "9f77b32c",
   "metadata": {},
   "outputs": [
    {
     "name": "stdout",
     "output_type": "stream",
     "text": [
      "[1, 2, 3, 4] [500, 2, 3, 4]\n"
     ]
    }
   ],
   "source": [
    "list2[0] = 500\n",
    "print(list1,list2) #Two different objects"
   ]
  },
  {
   "cell_type": "code",
   "execution_count": 65,
   "id": "7758ba9c",
   "metadata": {},
   "outputs": [
    {
     "name": "stdout",
     "output_type": "stream",
     "text": [
      "[[1, 2, 3, 4], [5, 6, 7, 8]] [[1, 2, 3, 4], [5, 6, 7, 8]]\n",
      "2620520930624 2620520929088\n"
     ]
    }
   ],
   "source": [
    "list1 = [[1,2,3,4],[5,6,7,8]]\n",
    "list2 = list1.copy()\n",
    "print(list1,list2)\n",
    "print(id(list1),id(list2)) #Object ids Different"
   ]
  },
  {
   "cell_type": "code",
   "execution_count": 66,
   "id": "7ec8d0f3",
   "metadata": {},
   "outputs": [
    {
     "name": "stdout",
     "output_type": "stream",
     "text": [
      "[[1, 2, 3, 4], [1000, 6, 7, 8]] [[1, 2, 3, 4], [1000, 6, 7, 8]]\n"
     ]
    }
   ],
   "source": [
    "list1[1][0] = 1000\n",
    "print(list1,list2) #Even though we used shallow-copy .copy() method, it "
   ]
  },
  {
   "cell_type": "code",
   "execution_count": 67,
   "id": "95398f02",
   "metadata": {},
   "outputs": [
    {
     "data": {
      "text/plain": [
       "False"
      ]
     },
     "execution_count": 67,
     "metadata": {},
     "output_type": "execute_result"
    }
   ],
   "source": [
    "id(list1)==id(list2) #Have Different object Ids."
   ]
  },
  {
   "cell_type": "code",
   "execution_count": 68,
   "id": "c1231777",
   "metadata": {},
   "outputs": [
    {
     "data": {
      "text/plain": [
       "(2620520930560, 2620520930560)"
      ]
     },
     "execution_count": 68,
     "metadata": {},
     "output_type": "execute_result"
    }
   ],
   "source": [
    "id(list1[1]),id(list2[1]) #Sub-lists have same Id"
   ]
  },
  {
   "cell_type": "markdown",
   "id": "17fcc0d6",
   "metadata": {},
   "source": [
    "**Both Lists list1 and list2 point to same sub-lists. id(list1)!=id(list2)**"
   ]
  },
  {
   "cell_type": "code",
   "execution_count": 69,
   "id": "179cc8b7",
   "metadata": {},
   "outputs": [
    {
     "name": "stdout",
     "output_type": "stream",
     "text": [
      "2620520926976 2620520873024\n",
      "[[1, 2, 3, 4], [5, 6, 7, 8]] [[1, 2, 3, 4], [5, 6, 7, 8]]\n"
     ]
    }
   ],
   "source": [
    "import copy\n",
    "list1 = [[1,2,3,4],[5,6,7,8]]\n",
    "list2 = copy.deepcopy(list1)\n",
    "print(id(list1),id(list2)) # Different ids of lists because different objects.\n",
    "print(list1,list2)"
   ]
  },
  {
   "cell_type": "code",
   "execution_count": 70,
   "id": "b8863f02",
   "metadata": {},
   "outputs": [
    {
     "name": "stdout",
     "output_type": "stream",
     "text": [
      "2620520872576 2620520463296\n",
      "[[1, 2, 3, 4], [1000, 6, 7, 8]] [[1, 2, 3, 4], [5, 6, 7, 8]]\n"
     ]
    }
   ],
   "source": [
    "list1[1][0] = 1000\n",
    "print(id(list1[1]),id(list2[1])) # Different ids sub-lists because different objects.\n",
    "print(list1,list2)"
   ]
  },
  {
   "cell_type": "markdown",
   "id": "027af9ba",
   "metadata": {},
   "source": [
    "### How is Python Interpreted?\n",
    "![Python Interpreter](https://i.ytimg.com/vi/VsjJfaUdFO8/maxresdefault.jpg)"
   ]
  },
  {
   "cell_type": "markdown",
   "id": "54f1a46e",
   "metadata": {},
   "source": [
    "First, Python interpreter receives python source code, abc.py.\n",
    "1. Lexing : An analyzer called Lexer moves through your code looking at each character, and trying to create tokens out of them which is handed over to the Parser.\n",
    "2. Parsing : The generated token will be parsed by the Parser.\n",
    "3. Compiling : The compiler present inside the python interpreter compiles and generated Byte Code (intermediate language code) abc.pyc (python class file). Compilation takes place during runtime.\n",
    "\n",
    "The .pyc file , created in compilation step, is then executed by appropriate virtual machines. The Virtual Machine just a big loop that iterates through your byte code instructions, one by one, to carry out their operations. The Virtual Machine is the runtime engine of Python and it is always present as part of the Python system, and is the component that truly runs the Python scripts ."
   ]
  },
  {
   "cell_type": "markdown",
   "id": "f6a527f0",
   "metadata": {},
   "source": [
    "### Datatypes in Python :\n",
    "- None (If we have an unassigned variable, its value is None)\n",
    "- Numeric :\n",
    "    - int\n",
    "    - float\n",
    "    - complex\n",
    "    - bool\n",
    "- Sequence :\n",
    "    - List\n",
    "    - Tuple\n",
    "    - Set\n",
    "    - Dictionary\n",
    "    - String\n",
    "    - Range"
   ]
  },
  {
   "cell_type": "code",
   "execution_count": 71,
   "id": "a01ff805",
   "metadata": {},
   "outputs": [
    {
     "name": "stdout",
     "output_type": "stream",
     "text": [
      "<class 'float'>\n"
     ]
    }
   ],
   "source": [
    "num = 2.5\n",
    "print(type(num))"
   ]
  },
  {
   "cell_type": "code",
   "execution_count": 72,
   "id": "9084c076",
   "metadata": {},
   "outputs": [
    {
     "name": "stdout",
     "output_type": "stream",
     "text": [
      "<class 'complex'>\n"
     ]
    }
   ],
   "source": [
    "num = 6+9j #Python uses j instead of i\n",
    "print(type(num))"
   ]
  },
  {
   "cell_type": "code",
   "execution_count": 73,
   "id": "02e0cdf0",
   "metadata": {},
   "outputs": [
    {
     "name": "stdout",
     "output_type": "stream",
     "text": [
      "(3+4j)\n"
     ]
    }
   ],
   "source": [
    "a = 3\n",
    "b = 4\n",
    "c = complex(a,b)\n",
    "print(c)"
   ]
  },
  {
   "cell_type": "code",
   "execution_count": 74,
   "id": "a4b9bb1a",
   "metadata": {},
   "outputs": [
    {
     "name": "stdout",
     "output_type": "stream",
     "text": [
      "1\n"
     ]
    }
   ],
   "source": [
    "bool_var = int(a<b)\n",
    "print(bool_var)"
   ]
  },
  {
   "cell_type": "code",
   "execution_count": 75,
   "id": "878a1dfe",
   "metadata": {},
   "outputs": [
    {
     "data": {
      "text/plain": [
       "str"
      ]
     },
     "execution_count": 75,
     "metadata": {},
     "output_type": "execute_result"
    }
   ],
   "source": [
    "char = 'a'\n",
    "type(char) #No char data type in Python"
   ]
  },
  {
   "cell_type": "code",
   "execution_count": 76,
   "id": "7c71edd2",
   "metadata": {},
   "outputs": [
    {
     "name": "stdout",
     "output_type": "stream",
     "text": [
      "<class 'range'>\n"
     ]
    }
   ],
   "source": [
    "Range = range(0,10)\n",
    "print(type(Range))"
   ]
  },
  {
   "cell_type": "code",
   "execution_count": 77,
   "id": "e0e2b8d3",
   "metadata": {},
   "outputs": [
    {
     "name": "stdout",
     "output_type": "stream",
     "text": [
      "[0, 1, 2, 3, 4, 5, 6, 7, 8, 9]\n"
     ]
    }
   ],
   "source": [
    "print(list(range(10)))"
   ]
  },
  {
   "cell_type": "code",
   "execution_count": 78,
   "id": "c3ac6fed",
   "metadata": {},
   "outputs": [
    {
     "name": "stdout",
     "output_type": "stream",
     "text": [
      "[2, 5, 8, 11, 14, 17]\n"
     ]
    }
   ],
   "source": [
    "print(list(range(2,20,3))) #3rd arguement is denotes the skip"
   ]
  },
  {
   "cell_type": "code",
   "execution_count": 79,
   "id": "2eff3202",
   "metadata": {},
   "outputs": [
    {
     "name": "stdout",
     "output_type": "stream",
     "text": [
      "dict_keys([1, 2, 3])\n",
      "dict_values(['Monday', 'Tuesday', 'Wednesday'])\n"
     ]
    }
   ],
   "source": [
    "d = {1:'Monday', 2 : 'Tuesday', 3: 'Wednesday'}\n",
    "print(d.keys())\n",
    "print(d.values())"
   ]
  },
  {
   "cell_type": "code",
   "execution_count": 80,
   "id": "34134b3d",
   "metadata": {},
   "outputs": [
    {
     "name": "stdout",
     "output_type": "stream",
     "text": [
      "Tuesday\n"
     ]
    }
   ],
   "source": [
    "print(d.get(2))"
   ]
  },
  {
   "cell_type": "markdown",
   "id": "e4f0852d",
   "metadata": {},
   "source": [
    "### Operators in Python :\n",
    "- Arithemetic (+,-,*,/,%,**,.etc)\n",
    "- Assignment (=)\n",
    "- Relational (<,>,==,!=,<=,>=)\n",
    "- Logical (and, or, not)\n",
    "- Unary"
   ]
  },
  {
   "cell_type": "code",
   "execution_count": 81,
   "id": "88e17b6c",
   "metadata": {},
   "outputs": [
    {
     "name": "stdout",
     "output_type": "stream",
     "text": [
      "12\n"
     ]
    }
   ],
   "source": [
    "x = 4\n",
    "x *= 3\n",
    "print(x)"
   ]
  },
  {
   "cell_type": "code",
   "execution_count": 82,
   "id": "9e53b407",
   "metadata": {},
   "outputs": [],
   "source": [
    "a,b = 5,6"
   ]
  },
  {
   "cell_type": "code",
   "execution_count": 83,
   "id": "048ffeb6",
   "metadata": {},
   "outputs": [
    {
     "data": {
      "text/plain": [
       "False"
      ]
     },
     "execution_count": 83,
     "metadata": {},
     "output_type": "execute_result"
    }
   ],
   "source": [
    "a<8 and b <5"
   ]
  },
  {
   "cell_type": "markdown",
   "id": "69e592ad",
   "metadata": {},
   "source": [
    "### Number System Conversion :"
   ]
  },
  {
   "cell_type": "code",
   "execution_count": 84,
   "id": "ff779261",
   "metadata": {},
   "outputs": [
    {
     "data": {
      "text/plain": [
       "'0b11001'"
      ]
     },
     "execution_count": 84,
     "metadata": {},
     "output_type": "execute_result"
    }
   ],
   "source": [
    "bin(25) #dec to binary #0b denotes binary"
   ]
  },
  {
   "cell_type": "code",
   "execution_count": 85,
   "id": "7c7fb5f9",
   "metadata": {},
   "outputs": [
    {
     "data": {
      "text/plain": [
       "5"
      ]
     },
     "execution_count": 85,
     "metadata": {},
     "output_type": "execute_result"
    }
   ],
   "source": [
    "0b101"
   ]
  },
  {
   "cell_type": "code",
   "execution_count": 86,
   "id": "3c80880f",
   "metadata": {},
   "outputs": [
    {
     "data": {
      "text/plain": [
       "'0o31'"
      ]
     },
     "execution_count": 86,
     "metadata": {},
     "output_type": "execute_result"
    }
   ],
   "source": [
    "oct(25) #dec to octal #0c denotes octal"
   ]
  },
  {
   "cell_type": "code",
   "execution_count": 87,
   "id": "e1ece29a",
   "metadata": {},
   "outputs": [
    {
     "data": {
      "text/plain": [
       "'0x19'"
      ]
     },
     "execution_count": 87,
     "metadata": {},
     "output_type": "execute_result"
    }
   ],
   "source": [
    "hex(25) #dec to hex #0x denotes hex"
   ]
  },
  {
   "cell_type": "code",
   "execution_count": 88,
   "id": "e0eb6e60",
   "metadata": {},
   "outputs": [
    {
     "data": {
      "text/plain": [
       "15"
      ]
     },
     "execution_count": 88,
     "metadata": {},
     "output_type": "execute_result"
    }
   ],
   "source": [
    "0xf"
   ]
  },
  {
   "cell_type": "code",
   "execution_count": 89,
   "id": "0862f97a",
   "metadata": {},
   "outputs": [
    {
     "data": {
      "text/plain": [
       "410"
      ]
     },
     "execution_count": 89,
     "metadata": {},
     "output_type": "execute_result"
    }
   ],
   "source": [
    "0b110011010"
   ]
  },
  {
   "cell_type": "markdown",
   "id": "9d1a758b",
   "metadata": {},
   "source": [
    "### Bitwise-Operators :\n",
    "- COMPLEMENT (~)\n",
    "- AND (&)\n",
    "- OR (|)\n",
    "- XOR (^)\n",
    "- LEFT SHIFT (<<)\n",
    "- RIGHT SHIFT (>>)"
   ]
  },
  {
   "cell_type": "code",
   "execution_count": 90,
   "id": "a9ba9f77",
   "metadata": {},
   "outputs": [
    {
     "data": {
      "text/plain": [
       "-13"
      ]
     },
     "execution_count": 90,
     "metadata": {},
     "output_type": "execute_result"
    }
   ],
   "source": [
    " ~12 #00001100\n",
    "    # 1's complement of 12 : 11110011\n",
    "    # 1's complement of 13 : 11110010\n",
    "    # Add 1 to it          : 11110011\n",
    " # we can see 1's complement of 12 == 2's of 13 == -13 in binary"
   ]
  },
  {
   "cell_type": "code",
   "execution_count": 91,
   "id": "8ecaf36e",
   "metadata": {},
   "outputs": [
    {
     "data": {
      "text/plain": [
       "12"
      ]
     },
     "execution_count": 91,
     "metadata": {},
     "output_type": "execute_result"
    }
   ],
   "source": [
    "12 & 13 #Bitwise AND\n",
    "# 12 in binary : 00001100\n",
    "# 13 in binary : 00001101\n",
    "# AND Operation : 00001100"
   ]
  },
  {
   "cell_type": "code",
   "execution_count": 92,
   "id": "008f25e1",
   "metadata": {},
   "outputs": [
    {
     "data": {
      "text/plain": [
       "13"
      ]
     },
     "execution_count": 92,
     "metadata": {},
     "output_type": "execute_result"
    }
   ],
   "source": [
    "12 | 13"
   ]
  },
  {
   "cell_type": "code",
   "execution_count": 93,
   "id": "401f314b",
   "metadata": {},
   "outputs": [
    {
     "name": "stdout",
     "output_type": "stream",
     "text": [
      "24\n",
      "0b11001\n",
      "0b11110\n"
     ]
    }
   ],
   "source": [
    "print(25 & 30)\n",
    "print(bin(25))\n",
    "print(bin(30))\n"
   ]
  },
  {
   "cell_type": "code",
   "execution_count": 94,
   "id": "3b871e2c",
   "metadata": {},
   "outputs": [
    {
     "name": "stdout",
     "output_type": "stream",
     "text": [
      "1\n",
      "0b1\n",
      "0b1100\n",
      "0b1101\n"
     ]
    }
   ],
   "source": [
    "# XOR \n",
    "# 0 , 0 -> 0\n",
    "# 0 , 1 -> 1\n",
    "# 1 , 0 -> 1\n",
    "# 1 , 1 -> 0\n",
    "print(12^13)\n",
    "print(bin(12^13))\n",
    "print(bin(12))\n",
    "print(bin(13))"
   ]
  },
  {
   "cell_type": "code",
   "execution_count": 95,
   "id": "34b1996a",
   "metadata": {},
   "outputs": [
    {
     "name": "stdout",
     "output_type": "stream",
     "text": [
      "20\n",
      "0b10100\n"
     ]
    }
   ],
   "source": [
    "#Left Shift : Number << No. of bits to shift to left\n",
    "num = 10 << 1\n",
    "print(num)\n",
    "print(bin(num))"
   ]
  },
  {
   "cell_type": "code",
   "execution_count": 96,
   "id": "afd62456",
   "metadata": {},
   "outputs": [
    {
     "name": "stdout",
     "output_type": "stream",
     "text": [
      "5\n",
      "0b101\n"
     ]
    }
   ],
   "source": [
    "#Right Shift : Number >> No. of bits to shift to right\n",
    "num = 10 >> 1\n",
    "print(num)\n",
    "print(bin(num))"
   ]
  },
  {
   "cell_type": "markdown",
   "id": "cdd8f84f",
   "metadata": {},
   "source": [
    "### Math functions :"
   ]
  },
  {
   "cell_type": "code",
   "execution_count": 97,
   "id": "c32564ce",
   "metadata": {},
   "outputs": [],
   "source": [
    "import math"
   ]
  },
  {
   "cell_type": "code",
   "execution_count": 98,
   "id": "df00691e",
   "metadata": {},
   "outputs": [
    {
     "name": "stdout",
     "output_type": "stream",
     "text": [
      "5.0\n"
     ]
    }
   ],
   "source": [
    "x = math.sqrt(25)\n",
    "print(x)"
   ]
  },
  {
   "cell_type": "code",
   "execution_count": 99,
   "id": "1ac35454",
   "metadata": {},
   "outputs": [
    {
     "name": "stdout",
     "output_type": "stream",
     "text": [
      "2\n",
      "3\n"
     ]
    }
   ],
   "source": [
    "print(math.floor(2.5))\n",
    "print(math.ceil(2.5))"
   ]
  },
  {
   "cell_type": "code",
   "execution_count": 100,
   "id": "74c7a021",
   "metadata": {},
   "outputs": [
    {
     "name": "stdout",
     "output_type": "stream",
     "text": [
      "9.0\n"
     ]
    }
   ],
   "source": [
    "print(math.pow(3,2))"
   ]
  },
  {
   "cell_type": "code",
   "execution_count": 101,
   "id": "3227878f",
   "metadata": {},
   "outputs": [
    {
     "name": "stdout",
     "output_type": "stream",
     "text": [
      "3.141592653589793\n"
     ]
    }
   ],
   "source": [
    "print(math.pi)"
   ]
  },
  {
   "cell_type": "code",
   "execution_count": 102,
   "id": "dd5f4cb6",
   "metadata": {},
   "outputs": [
    {
     "name": "stdout",
     "output_type": "stream",
     "text": [
      "2.718281828459045\n"
     ]
    }
   ],
   "source": [
    "print(math.e)"
   ]
  },
  {
   "cell_type": "code",
   "execution_count": 103,
   "id": "59763384",
   "metadata": {},
   "outputs": [],
   "source": [
    "from math import sqrt, pow"
   ]
  },
  {
   "cell_type": "code",
   "execution_count": 104,
   "id": "fd02bbf7",
   "metadata": {},
   "outputs": [
    {
     "data": {
      "text/plain": [
       "32.0"
      ]
     },
     "execution_count": 104,
     "metadata": {},
     "output_type": "execute_result"
    }
   ],
   "source": [
    "sqrt(1024)"
   ]
  },
  {
   "cell_type": "code",
   "execution_count": 105,
   "id": "63e8b97c",
   "metadata": {},
   "outputs": [
    {
     "name": "stdout",
     "output_type": "stream",
     "text": [
      "Help on built-in module math:\n",
      "\n",
      "NAME\n",
      "    math\n",
      "\n",
      "DESCRIPTION\n",
      "    This module provides access to the mathematical functions\n",
      "    defined by the C standard.\n",
      "\n",
      "FUNCTIONS\n",
      "    acos(x, /)\n",
      "        Return the arc cosine (measured in radians) of x.\n",
      "        \n",
      "        The result is between 0 and pi.\n",
      "    \n",
      "    acosh(x, /)\n",
      "        Return the inverse hyperbolic cosine of x.\n",
      "    \n",
      "    asin(x, /)\n",
      "        Return the arc sine (measured in radians) of x.\n",
      "        \n",
      "        The result is between -pi/2 and pi/2.\n",
      "    \n",
      "    asinh(x, /)\n",
      "        Return the inverse hyperbolic sine of x.\n",
      "    \n",
      "    atan(x, /)\n",
      "        Return the arc tangent (measured in radians) of x.\n",
      "        \n",
      "        The result is between -pi/2 and pi/2.\n",
      "    \n",
      "    atan2(y, x, /)\n",
      "        Return the arc tangent (measured in radians) of y/x.\n",
      "        \n",
      "        Unlike atan(y/x), the signs of both x and y are considered.\n",
      "    \n",
      "    atanh(x, /)\n",
      "        Return the inverse hyperbolic tangent of x.\n",
      "    \n",
      "    ceil(x, /)\n",
      "        Return the ceiling of x as an Integral.\n",
      "        \n",
      "        This is the smallest integer >= x.\n",
      "    \n",
      "    comb(n, k, /)\n",
      "        Number of ways to choose k items from n items without repetition and without order.\n",
      "        \n",
      "        Evaluates to n! / (k! * (n - k)!) when k <= n and evaluates\n",
      "        to zero when k > n.\n",
      "        \n",
      "        Also called the binomial coefficient because it is equivalent\n",
      "        to the coefficient of k-th term in polynomial expansion of the\n",
      "        expression (1 + x)**n.\n",
      "        \n",
      "        Raises TypeError if either of the arguments are not integers.\n",
      "        Raises ValueError if either of the arguments are negative.\n",
      "    \n",
      "    copysign(x, y, /)\n",
      "        Return a float with the magnitude (absolute value) of x but the sign of y.\n",
      "        \n",
      "        On platforms that support signed zeros, copysign(1.0, -0.0)\n",
      "        returns -1.0.\n",
      "    \n",
      "    cos(x, /)\n",
      "        Return the cosine of x (measured in radians).\n",
      "    \n",
      "    cosh(x, /)\n",
      "        Return the hyperbolic cosine of x.\n",
      "    \n",
      "    degrees(x, /)\n",
      "        Convert angle x from radians to degrees.\n",
      "    \n",
      "    dist(p, q, /)\n",
      "        Return the Euclidean distance between two points p and q.\n",
      "        \n",
      "        The points should be specified as sequences (or iterables) of\n",
      "        coordinates.  Both inputs must have the same dimension.\n",
      "        \n",
      "        Roughly equivalent to:\n",
      "            sqrt(sum((px - qx) ** 2.0 for px, qx in zip(p, q)))\n",
      "    \n",
      "    erf(x, /)\n",
      "        Error function at x.\n",
      "    \n",
      "    erfc(x, /)\n",
      "        Complementary error function at x.\n",
      "    \n",
      "    exp(x, /)\n",
      "        Return e raised to the power of x.\n",
      "    \n",
      "    expm1(x, /)\n",
      "        Return exp(x)-1.\n",
      "        \n",
      "        This function avoids the loss of precision involved in the direct evaluation of exp(x)-1 for small x.\n",
      "    \n",
      "    fabs(x, /)\n",
      "        Return the absolute value of the float x.\n",
      "    \n",
      "    factorial(x, /)\n",
      "        Find x!.\n",
      "        \n",
      "        Raise a ValueError if x is negative or non-integral.\n",
      "    \n",
      "    floor(x, /)\n",
      "        Return the floor of x as an Integral.\n",
      "        \n",
      "        This is the largest integer <= x.\n",
      "    \n",
      "    fmod(x, y, /)\n",
      "        Return fmod(x, y), according to platform C.\n",
      "        \n",
      "        x % y may differ.\n",
      "    \n",
      "    frexp(x, /)\n",
      "        Return the mantissa and exponent of x, as pair (m, e).\n",
      "        \n",
      "        m is a float and e is an int, such that x = m * 2.**e.\n",
      "        If x is 0, m and e are both 0.  Else 0.5 <= abs(m) < 1.0.\n",
      "    \n",
      "    fsum(seq, /)\n",
      "        Return an accurate floating point sum of values in the iterable seq.\n",
      "        \n",
      "        Assumes IEEE-754 floating point arithmetic.\n",
      "    \n",
      "    gamma(x, /)\n",
      "        Gamma function at x.\n",
      "    \n",
      "    gcd(*integers)\n",
      "        Greatest Common Divisor.\n",
      "    \n",
      "    hypot(...)\n",
      "        hypot(*coordinates) -> value\n",
      "        \n",
      "        Multidimensional Euclidean distance from the origin to a point.\n",
      "        \n",
      "        Roughly equivalent to:\n",
      "            sqrt(sum(x**2 for x in coordinates))\n",
      "        \n",
      "        For a two dimensional point (x, y), gives the hypotenuse\n",
      "        using the Pythagorean theorem:  sqrt(x*x + y*y).\n",
      "        \n",
      "        For example, the hypotenuse of a 3/4/5 right triangle is:\n",
      "        \n",
      "            >>> hypot(3.0, 4.0)\n",
      "            5.0\n",
      "    \n",
      "    isclose(a, b, *, rel_tol=1e-09, abs_tol=0.0)\n",
      "        Determine whether two floating point numbers are close in value.\n",
      "        \n",
      "          rel_tol\n",
      "            maximum difference for being considered \"close\", relative to the\n",
      "            magnitude of the input values\n",
      "          abs_tol\n",
      "            maximum difference for being considered \"close\", regardless of the\n",
      "            magnitude of the input values\n",
      "        \n",
      "        Return True if a is close in value to b, and False otherwise.\n",
      "        \n",
      "        For the values to be considered close, the difference between them\n",
      "        must be smaller than at least one of the tolerances.\n",
      "        \n",
      "        -inf, inf and NaN behave similarly to the IEEE 754 Standard.  That\n",
      "        is, NaN is not close to anything, even itself.  inf and -inf are\n",
      "        only close to themselves.\n",
      "    \n",
      "    isfinite(x, /)\n",
      "        Return True if x is neither an infinity nor a NaN, and False otherwise.\n",
      "    \n",
      "    isinf(x, /)\n",
      "        Return True if x is a positive or negative infinity, and False otherwise.\n",
      "    \n",
      "    isnan(x, /)\n",
      "        Return True if x is a NaN (not a number), and False otherwise.\n",
      "    \n",
      "    isqrt(n, /)\n",
      "        Return the integer part of the square root of the input.\n",
      "    \n",
      "    lcm(*integers)\n",
      "        Least Common Multiple.\n",
      "    \n",
      "    ldexp(x, i, /)\n",
      "        Return x * (2**i).\n",
      "        \n",
      "        This is essentially the inverse of frexp().\n",
      "    \n",
      "    lgamma(x, /)\n",
      "        Natural logarithm of absolute value of Gamma function at x.\n",
      "    \n",
      "    log(...)\n",
      "        log(x, [base=math.e])\n",
      "        Return the logarithm of x to the given base.\n",
      "        \n",
      "        If the base not specified, returns the natural logarithm (base e) of x.\n",
      "    \n",
      "    log10(x, /)\n",
      "        Return the base 10 logarithm of x.\n",
      "    \n",
      "    log1p(x, /)\n",
      "        Return the natural logarithm of 1+x (base e).\n",
      "        \n",
      "        The result is computed in a way which is accurate for x near zero.\n",
      "    \n",
      "    log2(x, /)\n",
      "        Return the base 2 logarithm of x.\n",
      "    \n",
      "    modf(x, /)\n",
      "        Return the fractional and integer parts of x.\n",
      "        \n",
      "        Both results carry the sign of x and are floats.\n",
      "    \n",
      "    nextafter(x, y, /)\n",
      "        Return the next floating-point value after x towards y.\n",
      "    \n",
      "    perm(n, k=None, /)\n",
      "        Number of ways to choose k items from n items without repetition and with order.\n",
      "        \n",
      "        Evaluates to n! / (n - k)! when k <= n and evaluates\n",
      "        to zero when k > n.\n",
      "        \n",
      "        If k is not specified or is None, then k defaults to n\n",
      "        and the function returns n!.\n",
      "        \n",
      "        Raises TypeError if either of the arguments are not integers.\n",
      "        Raises ValueError if either of the arguments are negative.\n",
      "    \n",
      "    pow(x, y, /)\n",
      "        Return x**y (x to the power of y).\n",
      "    \n",
      "    prod(iterable, /, *, start=1)\n",
      "        Calculate the product of all the elements in the input iterable.\n",
      "        \n",
      "        The default start value for the product is 1.\n",
      "        \n",
      "        When the iterable is empty, return the start value.  This function is\n",
      "        intended specifically for use with numeric values and may reject\n",
      "        non-numeric types.\n",
      "    \n",
      "    radians(x, /)\n",
      "        Convert angle x from degrees to radians.\n",
      "    \n",
      "    remainder(x, y, /)\n",
      "        Difference between x and the closest integer multiple of y.\n",
      "        \n",
      "        Return x - n*y where n*y is the closest integer multiple of y.\n",
      "        In the case where x is exactly halfway between two multiples of\n",
      "        y, the nearest even value of n is used. The result is always exact.\n",
      "    \n",
      "    sin(x, /)\n",
      "        Return the sine of x (measured in radians).\n",
      "    \n",
      "    sinh(x, /)\n",
      "        Return the hyperbolic sine of x.\n",
      "    \n",
      "    sqrt(x, /)\n",
      "        Return the square root of x.\n",
      "    \n",
      "    tan(x, /)\n",
      "        Return the tangent of x (measured in radians).\n",
      "    \n",
      "    tanh(x, /)\n",
      "        Return the hyperbolic tangent of x.\n",
      "    \n",
      "    trunc(x, /)\n",
      "        Truncates the Real x to the nearest Integral toward 0.\n",
      "        \n",
      "        Uses the __trunc__ magic method.\n",
      "    \n",
      "    ulp(x, /)\n",
      "        Return the value of the least significant bit of the float x.\n",
      "\n",
      "DATA\n",
      "    e = 2.718281828459045\n",
      "    inf = inf\n",
      "    nan = nan\n",
      "    pi = 3.141592653589793\n",
      "    tau = 6.283185307179586\n",
      "\n",
      "FILE\n",
      "    (built-in)\n",
      "\n",
      "\n"
     ]
    }
   ],
   "source": [
    "help('math')"
   ]
  },
  {
   "cell_type": "markdown",
   "id": "38a42d73",
   "metadata": {},
   "source": [
    "### Conditionals :"
   ]
  },
  {
   "cell_type": "code",
   "execution_count": 106,
   "id": "2fd9fbc0",
   "metadata": {},
   "outputs": [
    {
     "name": "stdout",
     "output_type": "stream",
     "text": [
      "5\n",
      "8\n",
      "9\n",
      "8\n"
     ]
    }
   ],
   "source": [
    "#Find largest number among 3 numbers:\n",
    "a = int(input()) #By default input is taken as str\n",
    "b = int(input())\n",
    "c = int(input())\n",
    "max = a\n",
    "if b>max :\n",
    "    max = b\n",
    "elif c>max :\n",
    "    max = c\n",
    "else :\n",
    "    pass\n",
    "print(max)"
   ]
  },
  {
   "cell_type": "markdown",
   "id": "fad83fe9",
   "metadata": {},
   "source": [
    "### While Loop :"
   ]
  },
  {
   "cell_type": "code",
   "execution_count": 107,
   "id": "ab79d6e1",
   "metadata": {},
   "outputs": [],
   "source": [
    "i=j=1"
   ]
  },
  {
   "cell_type": "code",
   "execution_count": 108,
   "id": "6c534c42",
   "metadata": {},
   "outputs": [
    {
     "name": "stdout",
     "output_type": "stream",
     "text": [
      "Keras Rocks Rocks Rocks Rocks \n",
      "Keras Rocks Rocks Rocks Rocks \n",
      "Keras Rocks Rocks Rocks Rocks \n",
      "Keras Rocks Rocks Rocks Rocks \n",
      "Keras Rocks Rocks Rocks Rocks \n"
     ]
    }
   ],
   "source": [
    "while i<=5:\n",
    "    print(\"Keras \",end=\"\")\n",
    "    j=1\n",
    "    while j<=4:\n",
    "        print(\"Rocks \",end=\"\")\n",
    "        j+=1\n",
    "   \n",
    "    i+=1\n",
    "    print() "
   ]
  },
  {
   "cell_type": "markdown",
   "id": "6f52d976",
   "metadata": {},
   "source": [
    "### For Loop :"
   ]
  },
  {
   "cell_type": "code",
   "execution_count": 109,
   "id": "f5259448",
   "metadata": {},
   "outputs": [],
   "source": [
    "list1 = [2,'Hello',5.6]"
   ]
  },
  {
   "cell_type": "code",
   "execution_count": 110,
   "id": "8bfd8293",
   "metadata": {},
   "outputs": [
    {
     "name": "stdout",
     "output_type": "stream",
     "text": [
      "2\n",
      "Hello\n",
      "5.6\n"
     ]
    }
   ],
   "source": [
    "for x in list1:\n",
    "    print(x)"
   ]
  },
  {
   "cell_type": "code",
   "execution_count": 111,
   "id": "25a3c7b9",
   "metadata": {},
   "outputs": [
    {
     "name": "stdout",
     "output_type": "stream",
     "text": [
      "0\n",
      "1\n",
      "2\n",
      "3\n",
      "4\n"
     ]
    }
   ],
   "source": [
    "for i in range(5):\n",
    "    print(i)"
   ]
  },
  {
   "cell_type": "code",
   "execution_count": 112,
   "id": "33f2b886",
   "metadata": {},
   "outputs": [
    {
     "name": "stdout",
     "output_type": "stream",
     "text": [
      "2 4 6 8 10 12 14 16 18 20 "
     ]
    }
   ],
   "source": [
    "for i in range(2,21,2):\n",
    "    print(\"{} \".format(i),end=\"\")"
   ]
  },
  {
   "cell_type": "code",
   "execution_count": 113,
   "id": "a8b3f135",
   "metadata": {},
   "outputs": [
    {
     "name": "stdout",
     "output_type": "stream",
     "text": [
      "20 19 18 17 16 15 14 13 12 11 "
     ]
    }
   ],
   "source": [
    "for j in range(20,10,-1):\n",
    "    print(\"{} \".format(j),end=\"\")"
   ]
  },
  {
   "cell_type": "markdown",
   "id": "f75292d2",
   "metadata": {},
   "source": [
    "### Break, Pass and Continue :"
   ]
  },
  {
   "cell_type": "code",
   "execution_count": 114,
   "id": "64a73553",
   "metadata": {},
   "outputs": [
    {
     "name": "stdout",
     "output_type": "stream",
     "text": [
      "How many candies do you want?5\n",
      "Candy\n",
      "Candy\n",
      "Candy\n",
      "Candy\n",
      "Candy\n",
      "Bye\n"
     ]
    }
   ],
   "source": [
    "av = 5\n",
    "x = int(input(\"How many candies do you want?\"))\n",
    "i = 1\n",
    "while i<=x:\n",
    "    if i>av:\n",
    "        print(\"Out of stock\")\n",
    "        break #Breaks out of loop\n",
    "    print(\"Candy\")\n",
    "    i+=1\n",
    "print(\"Bye\")"
   ]
  },
  {
   "cell_type": "code",
   "execution_count": 115,
   "id": "afe8b8fb",
   "metadata": {},
   "outputs": [
    {
     "name": "stdout",
     "output_type": "stream",
     "text": [
      "1 2 4 5 7 8 10 11 13 14 16 17 19 20 Bye\n"
     ]
    }
   ],
   "source": [
    "# Lets print all numbers from 1-20 but not those divisible by 3\n",
    "for i in range(1,21):\n",
    "    if i%3==0:\n",
    "        continue #whenever continue is encountered, current iteration of loop is skipped\n",
    "    print(\"{} \".format(i),end=\"\")\n",
    "print(\"Bye\")\n"
   ]
  },
  {
   "cell_type": "code",
   "execution_count": 116,
   "id": "a4b53ed1",
   "metadata": {},
   "outputs": [],
   "source": [
    "#Exercise : Print following patterns :\n"
   ]
  },
  {
   "cell_type": "code",
   "execution_count": 117,
   "id": "2e7cffa7",
   "metadata": {},
   "outputs": [
    {
     "name": "stdout",
     "output_type": "stream",
     "text": [
      "# # # # \n",
      "# # # # \n",
      "# # # # \n",
      "# # # # \n"
     ]
    }
   ],
   "source": [
    "for i in range(4):\n",
    "    print(\"{} \".format(\"#\")*4,end=\"\")\n",
    "    print()"
   ]
  },
  {
   "cell_type": "code",
   "execution_count": 118,
   "id": "82b03702",
   "metadata": {},
   "outputs": [
    {
     "name": "stdout",
     "output_type": "stream",
     "text": [
      "# \n",
      "# # \n",
      "# # # \n",
      "# # # # \n"
     ]
    }
   ],
   "source": [
    "for i in range(1,5):\n",
    "    print(\"{} \".format(\"#\")*i,end=\"\")\n",
    "    print()"
   ]
  },
  {
   "cell_type": "code",
   "execution_count": 119,
   "id": "45b16c5e",
   "metadata": {},
   "outputs": [
    {
     "name": "stdout",
     "output_type": "stream",
     "text": [
      "# # # # \n",
      "# # # \n",
      "# # \n",
      "# \n"
     ]
    }
   ],
   "source": [
    "for i in range(1,5):\n",
    "    print(\"{} \".format(\"#\")*(5-i),end=\"\")\n",
    "    print()"
   ]
  },
  {
   "cell_type": "markdown",
   "id": "db640606",
   "metadata": {},
   "source": [
    "### Advanced String Methods :\n",
    "- Python format() function has been introduced for handling complex string formatting more efficiently. This method of the built-in string class provides functionality for complex variable substitutions and value formatting."
   ]
  },
  {
   "cell_type": "code",
   "execution_count": 120,
   "id": "7fc2438b",
   "metadata": {},
   "outputs": [
    {
     "name": "stdout",
     "output_type": "stream",
     "text": [
      "GeeksforGeeks, A computer science portal for geeks.\n"
     ]
    }
   ],
   "source": [
    "#Single Formatter\n",
    "print(\"{}, A computer science portal for geeks.\".format(\"GeeksforGeeks\"))"
   ]
  },
  {
   "cell_type": "code",
   "execution_count": 121,
   "id": "1e40ec03",
   "metadata": {},
   "outputs": [
    {
     "name": "stdout",
     "output_type": "stream",
     "text": [
      "GeeksforGeeks, is a computer science portal for geeks\n"
     ]
    }
   ],
   "source": [
    "#Multiple Formatters\n",
    "my_string = \"{}, is a {} science portal for {}\"\n",
    " \n",
    "print(my_string.format(\"GeeksforGeeks\", \"computer\", \"geeks\"))"
   ]
  },
  {
   "cell_type": "code",
   "execution_count": 122,
   "id": "5f162215",
   "metadata": {},
   "outputs": [
    {
     "name": "stdout",
     "output_type": "stream",
     "text": [
      "Every programmer should know the use of Open Source programming and Operating Systems\n"
     ]
    }
   ],
   "source": [
    "#Formatters with Positional and Keyword Arguments\n",
    "print(\"Every {0} should know the use of {1} {2} programming and {3}\"\n",
    "      .format(\"programmer\", \"Open\", \"Source\", \"Operating Systems\"))\n",
    " "
   ]
  },
  {
   "cell_type": "code",
   "execution_count": 123,
   "id": "948fee8d",
   "metadata": {},
   "outputs": [
    {
     "name": "stdout",
     "output_type": "stream",
     "text": [
      "Hello, My name is Tushar and I'm 23 years old.\n"
     ]
    }
   ],
   "source": [
    "#Using f'strings\n",
    "name = 'Tushar'\n",
    "age = 23\n",
    "print(f\"Hello, My name is {name} and I'm {age} years old.\")"
   ]
  },
  {
   "cell_type": "code",
   "execution_count": null,
   "id": "277e1a26",
   "metadata": {},
   "outputs": [],
   "source": []
  }
 ],
 "metadata": {
  "kernelspec": {
   "display_name": "Python 3 (ipykernel)",
   "language": "python",
   "name": "python3"
  },
  "language_info": {
   "codemirror_mode": {
    "name": "ipython",
    "version": 3
   },
   "file_extension": ".py",
   "mimetype": "text/x-python",
   "name": "python",
   "nbconvert_exporter": "python",
   "pygments_lexer": "ipython3",
   "version": "3.10.5"
  }
 },
 "nbformat": 4,
 "nbformat_minor": 5
}
