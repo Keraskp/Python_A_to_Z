{
 "cells": [
  {
   "cell_type": "markdown",
   "id": "e56d4ba6",
   "metadata": {},
   "source": [
    "# Intermediate Python :"
   ]
  },
  {
   "cell_type": "markdown",
   "id": "b3d668ac",
   "metadata": {},
   "source": [
    "### \\*args and \\**kwargs in Python :\n",
    "- In Python, we can pass a variable number of arguments to a function using special symbols. There are two special symbols:\n",
    "    1. \\*args (Non-Keyword Arguments)\n",
    "    2. \\*\\*kwargs (Keyward Arguements)"
   ]
  },
  {
   "cell_type": "markdown",
   "id": "dff920ac",
   "metadata": {},
   "source": [
    "#### \\*args :\n",
    "The special syntax *args in function definitions in python is used to pass a variable number of arguments to a function. It is used to pass a non-key worded, variable-length argument list. "
   ]
  },
  {
   "cell_type": "code",
   "execution_count": 1,
   "id": "3bfca2d7",
   "metadata": {
    "scrolled": true
   },
   "outputs": [
    {
     "name": "stdout",
     "output_type": "stream",
     "text": [
      "Hello\n",
      "Welcome\n",
      "to\n",
      "GeeksforGeeks\n"
     ]
    }
   ],
   "source": [
    "def myFun(*argv): \n",
    "    for arg in argv: \n",
    "        print (arg)\n",
    "    \n",
    "myFun('Hello', 'Welcome', 'to', 'GeeksforGeeks')"
   ]
  },
  {
   "cell_type": "markdown",
   "id": "8cacfea0",
   "metadata": {},
   "source": [
    "#### \\*\\*kwargs:\n",
    "The special syntax \\*\\*kwargs in function definitions in python is used to pass a keyworded, variable-length argument list.\n",
    "\n",
    "One can think of the kwargs as being a dictionary that maps each keyword to the value that we pass alongside it. That is why when we iterate over the kwargs there doesn’t seem to be any order in which they were printed out."
   ]
  },
  {
   "cell_type": "code",
   "execution_count": 5,
   "id": "6a14fb2e",
   "metadata": {},
   "outputs": [
    {
     "name": "stdout",
     "output_type": "stream",
     "text": [
      "first == Geeks\n",
      "mid == for\n",
      "last == Geeks\n"
     ]
    }
   ],
   "source": [
    "def myFun(**kwargs): \n",
    "    for key, value in kwargs.items():\n",
    "        print (\"%s == %s\" %(key, value))\n",
    "  \n",
    "\n",
    "myFun(first ='Geeks', mid ='for', last='Geeks')   "
   ]
  },
  {
   "cell_type": "markdown",
   "id": "424c9544",
   "metadata": {},
   "source": [
    "### Exception Handling :"
   ]
  },
  {
   "cell_type": "markdown",
   "id": "90dc2289",
   "metadata": {},
   "source": [
    "Three types of Error occurs in python :\n",
    "1. Compile-Time Error : SyntaxError\n",
    "2. Logical Error : Not gettting expected result\n",
    "3. Runtime-Time Error : e.g Wrong input\n"
   ]
  },
  {
   "cell_type": "code",
   "execution_count": 6,
   "id": "9a610db7",
   "metadata": {},
   "outputs": [],
   "source": [
    "a = 5\n",
    "b = 0"
   ]
  },
  {
   "cell_type": "code",
   "execution_count": 8,
   "id": "da735b73",
   "metadata": {},
   "outputs": [
    {
     "name": "stdout",
     "output_type": "stream",
     "text": [
      "Resource Open\n",
      "Enter a number8\n",
      "8\n",
      "division by zero\n",
      "Bye\n"
     ]
    }
   ],
   "source": [
    "try :\n",
    "    print('Resource Open')\n",
    "    k = int(input('Enter a number'))\n",
    "    print(k)\n",
    "    print(a/b)\n",
    "except ZeroDivisionError as e:\n",
    "    print(e)\n",
    "except ValueError as e :\n",
    "    print('Invalid Input')\n",
    "finally :\n",
    "    print('Bye')"
   ]
  },
  {
   "cell_type": "markdown",
   "id": "a6484740",
   "metadata": {},
   "source": [
    "### File Handling :"
   ]
  },
  {
   "cell_type": "code",
   "execution_count": 18,
   "id": "b59d5763",
   "metadata": {},
   "outputs": [],
   "source": [
    "file = open('./input.txt','r')"
   ]
  },
  {
   "cell_type": "code",
   "execution_count": 19,
   "id": "897a97b2",
   "metadata": {},
   "outputs": [
    {
     "name": "stdout",
     "output_type": "stream",
     "text": [
      "<_io.TextIOWrapper name='./input.txt' mode='r' encoding='cp1252'>\n"
     ]
    }
   ],
   "source": [
    "print(file)"
   ]
  },
  {
   "cell_type": "code",
   "execution_count": 20,
   "id": "91cb91d7",
   "metadata": {},
   "outputs": [
    {
     "name": "stdout",
     "output_type": "stream",
     "text": [
      "Hello, how are you doing?\n",
      "\n"
     ]
    }
   ],
   "source": [
    "#how to fetch data?\n",
    "print(file.readline())\n",
    "\n",
    "#All contents will appear."
   ]
  },
  {
   "cell_type": "code",
   "execution_count": 21,
   "id": "92891917",
   "metadata": {},
   "outputs": [],
   "source": [
    "file1 = open('./output.txt','w')"
   ]
  },
  {
   "cell_type": "code",
   "execution_count": 22,
   "id": "d510fc7b",
   "metadata": {},
   "outputs": [
    {
     "data": {
      "text/plain": [
       "25"
      ]
     },
     "execution_count": 22,
     "metadata": {},
     "output_type": "execute_result"
    }
   ],
   "source": [
    "file1.write('My Laptop is Acer Nitro 5')"
   ]
  },
  {
   "cell_type": "code",
   "execution_count": 23,
   "id": "72f4a9a7",
   "metadata": {},
   "outputs": [],
   "source": [
    "file2 = open('./output.txt','r')"
   ]
  },
  {
   "cell_type": "code",
   "execution_count": 24,
   "id": "a92b4212",
   "metadata": {},
   "outputs": [
    {
     "name": "stdout",
     "output_type": "stream",
     "text": [
      "\n"
     ]
    }
   ],
   "source": [
    "print(file2.read())"
   ]
  },
  {
   "cell_type": "markdown",
   "id": "89afde21",
   "metadata": {},
   "source": [
    "### Iterators :"
   ]
  },
  {
   "cell_type": "code",
   "execution_count": null,
   "id": "60065bc3",
   "metadata": {},
   "outputs": [],
   "source": []
  }
 ],
 "metadata": {
  "kernelspec": {
   "display_name": "Python 3 (ipykernel)",
   "language": "python",
   "name": "python3"
  },
  "language_info": {
   "codemirror_mode": {
    "name": "ipython",
    "version": 3
   },
   "file_extension": ".py",
   "mimetype": "text/x-python",
   "name": "python",
   "nbconvert_exporter": "python",
   "pygments_lexer": "ipython3",
   "version": "3.10.4"
  }
 },
 "nbformat": 4,
 "nbformat_minor": 5
}
