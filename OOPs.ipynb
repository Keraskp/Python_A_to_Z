{
 "cells": [
  {
   "cell_type": "markdown",
   "id": "33bf46fe",
   "metadata": {},
   "source": [
    "# Object Oriented Programming in Python :"
   ]
  },
  {
   "cell_type": "markdown",
   "id": "2a48a276",
   "metadata": {},
   "source": [
    "### Class and Object :"
   ]
  },
  {
   "cell_type": "code",
   "execution_count": 1,
   "id": "1718527f",
   "metadata": {},
   "outputs": [],
   "source": [
    "class Computer:\n",
    "    def config(self): #Methods or Functions of class\n",
    "        print(\"i5,16gb,1TB\")\n",
    "    "
   ]
  },
  {
   "cell_type": "code",
   "execution_count": 2,
   "id": "3441f489",
   "metadata": {},
   "outputs": [
    {
     "name": "stdout",
     "output_type": "stream",
     "text": [
      "<__main__.Computer object at 0x000001142919EB00>\n",
      "<class '__main__.Computer'>\n"
     ]
    }
   ],
   "source": [
    "com1 = Computer()\n",
    "print(com1)\n",
    "print(type(com1))"
   ]
  },
  {
   "cell_type": "code",
   "execution_count": 3,
   "id": "16325911",
   "metadata": {},
   "outputs": [
    {
     "name": "stdout",
     "output_type": "stream",
     "text": [
      "i5,16gb,1TB\n"
     ]
    }
   ],
   "source": [
    "# config() is a method of class Computer\n",
    "# It can be accessed through object using \".\" operator\n",
    "com1.config()"
   ]
  },
  {
   "cell_type": "code",
   "execution_count": 4,
   "id": "2d5560f2",
   "metadata": {},
   "outputs": [
    {
     "name": "stdout",
     "output_type": "stream",
     "text": [
      "i5,16gb,1TB\n"
     ]
    }
   ],
   "source": [
    "#It can also be accessed using a class by passing object as arguement.\n",
    "#self as arguement means that it can take an object of the class as arguement.\n",
    "Computer.config(com1)\n",
    "#A met"
   ]
  },
  {
   "cell_type": "markdown",
   "id": "4ce544ae",
   "metadata": {},
   "source": [
    "What happens if we don't write self as arguement?"
   ]
  },
  {
   "cell_type": "code",
   "execution_count": 5,
   "id": "037827aa",
   "metadata": {},
   "outputs": [],
   "source": [
    "class Laptop:\n",
    "    def config():\n",
    "        print(\"i3, 8gb, 500GB\")"
   ]
  },
  {
   "cell_type": "code",
   "execution_count": 6,
   "id": "bd26a95d",
   "metadata": {},
   "outputs": [],
   "source": [
    "#Create Laptop object\n",
    "lap1 = Laptop()\n",
    "#lap1.config() gives error "
   ]
  },
  {
   "cell_type": "markdown",
   "id": "952bc8c0",
   "metadata": {},
   "source": [
    "Laptop.config() takes 0 positional arguments but 1 was given.\n",
    "\n",
    "Whenever we invoke a method through an object, the object's id is sent as arguement to the method. This is usage of self as parameter in class methods. However we can invoke config() method through class. e.g.,"
   ]
  },
  {
   "cell_type": "code",
   "execution_count": 7,
   "id": "39c80a1d",
   "metadata": {},
   "outputs": [
    {
     "name": "stdout",
     "output_type": "stream",
     "text": [
      "i3, 8gb, 500GB\n"
     ]
    }
   ],
   "source": [
    "Laptop.config()"
   ]
  },
  {
   "cell_type": "code",
   "execution_count": 8,
   "id": "f6fc082c",
   "metadata": {},
   "outputs": [],
   "source": [
    "com2 = Computer()"
   ]
  },
  {
   "cell_type": "code",
   "execution_count": 9,
   "id": "a90a2153",
   "metadata": {},
   "outputs": [],
   "source": [
    "#Computer.config() gives error"
   ]
  },
  {
   "cell_type": "markdown",
   "id": "0661827d",
   "metadata": {},
   "source": [
    "Computer.config() missing 1 required positional argument: 'self'\n",
    "\n",
    "Since self is mentioned as a parameter in method config(). To access it via a class, we must pass an object to the method. e.g.,"
   ]
  },
  {
   "cell_type": "code",
   "execution_count": 10,
   "id": "c10965bd",
   "metadata": {},
   "outputs": [
    {
     "name": "stdout",
     "output_type": "stream",
     "text": [
      "i5,16gb,1TB\n"
     ]
    }
   ],
   "source": [
    "Computer.config(com2)"
   ]
  },
  {
   "cell_type": "markdown",
   "id": "41eb8e24",
   "metadata": {},
   "source": [
    "### Constructor : "
   ]
  },
  {
   "cell_type": "code",
   "execution_count": 11,
   "id": "ea95ca44",
   "metadata": {},
   "outputs": [],
   "source": [
    "#\"__init__\" is a reserved method in python classes. It is known as a constructor in OOP concepts. \n",
    "#This method called when an object is created from the class and it allows the class to initialize the attributes of a class"
   ]
  },
  {
   "cell_type": "code",
   "execution_count": 12,
   "id": "849ea039",
   "metadata": {},
   "outputs": [],
   "source": [
    "class Computer:\n",
    "    def __init__(self,CPU,RAM): #Constructor is called whenever object is created.\n",
    "        self.CPU = CPU\n",
    "        self.RAM = RAM\n",
    "        print(\"In init\")\n",
    "        \n",
    "    def config(self): #Methods or Functions of class\n",
    "        print(f'CPU : {self.CPU}, RAM : {self.RAM}')\n",
    "    "
   ]
  },
  {
   "cell_type": "code",
   "execution_count": 13,
   "id": "dc5dcdf7",
   "metadata": {
    "scrolled": true
   },
   "outputs": [
    {
     "name": "stdout",
     "output_type": "stream",
     "text": [
      "In init\n"
     ]
    }
   ],
   "source": [
    "com1 = Computer('R9 5900x','64GB')"
   ]
  },
  {
   "cell_type": "code",
   "execution_count": 14,
   "id": "dde94b92",
   "metadata": {},
   "outputs": [
    {
     "name": "stdout",
     "output_type": "stream",
     "text": [
      "CPU : R9 5900x, RAM : 64GB\n"
     ]
    }
   ],
   "source": [
    "com1.config()"
   ]
  },
  {
   "cell_type": "code",
   "execution_count": 15,
   "id": "d4b0c9eb",
   "metadata": {},
   "outputs": [
    {
     "name": "stdout",
     "output_type": "stream",
     "text": [
      "In init\n"
     ]
    }
   ],
   "source": [
    "com1.__init__('i3','4GB') #We can call it manually as well. \n",
    "#To do so, remember to have self as paramter."
   ]
  },
  {
   "cell_type": "markdown",
   "id": "47fa4284",
   "metadata": {},
   "source": [
    "### Class and Instance Attributes :\n",
    "- **Class attributes** belong to the class itself they will be shared by all the instances. Such attributes are defined in the class body parts usually at the top, for legibility.\n"
   ]
  },
  {
   "cell_type": "code",
   "execution_count": 16,
   "id": "63eeaf71",
   "metadata": {},
   "outputs": [
    {
     "name": "stdout",
     "output_type": "stream",
     "text": [
      "1\n",
      "2\n",
      "2\n"
     ]
    }
   ],
   "source": [
    "# Write Python code here\n",
    "class sampleclass:\n",
    "    count = 0 # class attribute similar to static member in C++\n",
    "\n",
    "    def increase(self):\n",
    "        sampleclass.count += 1\n",
    "\n",
    "# Calling increase() on an object\n",
    "s1 = sampleclass()\n",
    "s1.increase()\n",
    "print(s1.count)\n",
    "\n",
    "# Calling increase on one more\n",
    "# object\n",
    "s2 = sampleclass()\n",
    "s2.increase()\n",
    "print(s2.count)\n",
    "\n",
    "print(sampleclass.count) "
   ]
  },
  {
   "cell_type": "markdown",
   "id": "20565146",
   "metadata": {},
   "source": [
    "Unlike class attributes, **instance attributes** are not shared by objects. Every object has its own copy of the instance attribute (In case of class attributes all object refer to single copy).\n",
    "\n",
    "To list the attributes of an instance/object, we have two functions:-\n",
    "1. vars()– This function displays the attribute of an instance in the form of an dictionary.\n",
    "2. dir()– This function displays more attributes than vars function,as it is not limited to instance. It displays the class attributes as well. It also displays the attributes of its ancestor classes."
   ]
  },
  {
   "cell_type": "code",
   "execution_count": 17,
   "id": "9c8dcb93",
   "metadata": {},
   "outputs": [
    {
     "name": "stdout",
     "output_type": "stream",
     "text": [
      "Dictionary form : {'name': 'xyz', 'salary': 4000}\n",
      "['__class__', '__delattr__', '__dict__', '__dir__', '__doc__', '__eq__', '__format__', '__ge__', '__getattribute__', '__gt__', '__hash__', '__init__', '__init_subclass__', '__le__', '__lt__', '__module__', '__ne__', '__new__', '__reduce__', '__reduce_ex__', '__repr__', '__setattr__', '__sizeof__', '__str__', '__subclasshook__', '__weakref__', 'name', 'salary', 'show']\n"
     ]
    }
   ],
   "source": [
    "# instance attributes.\n",
    "class emp:\n",
    "    def __init__(self):\n",
    "        self.name = 'xyz'\n",
    "        self.salary = 4000\n",
    "\n",
    "    def show(self):\n",
    "        print(self.name)\n",
    "        print(self.salary)\n",
    "\n",
    "e1 = emp()\n",
    "print(\"Dictionary form :\", vars(e1))\n",
    "print(dir(e1))\n"
   ]
  },
  {
   "cell_type": "markdown",
   "id": "4e97771b",
   "metadata": {},
   "source": [
    "### Types of Methods in Python :\n",
    "- Instance Methods\n",
    "- Class Methods\n",
    "- Static Methods"
   ]
  },
  {
   "cell_type": "markdown",
   "id": "a6ce747c",
   "metadata": {},
   "source": [
    "**Instance Methods : These are the normal methods of instances of class.**\n",
    "- Instance method takes self as parameter and is bound to instance object.\n",
    "- Instance method must be called via instance of class or via Class but the object has to be passed as parameter.\n",
    "- Instance method can access and modify both class and instance attributes."
   ]
  },
  {
   "cell_type": "code",
   "execution_count": 18,
   "id": "b2dd539f",
   "metadata": {},
   "outputs": [],
   "source": [
    "class Employee :\n",
    "    company = 'youtube' #class attribute or static attribute\n",
    "    \n",
    "    def __init__(self, first_name, last_name): #Constuctor\n",
    "        self.first_name = first_name  #instance attributes\n",
    "        self.last_name = last_name\n",
    "    \n",
    "    def get_email(self): #instance method takes self as parameter\n",
    "        return f'{self.first_name}.{self.last_name}@{Employee.company}.com'\n",
    "    \n",
    "    #Why can't we write company instead of Employee.company?\n",
    "    #Because it searches for a global var with the same name, then that will be used\n",
    "    #For accessing class attributes, we must write access it via the class\n",
    "    def change_company(self,name):\n",
    "        Employee.company = name\n",
    "        print(Employee.company)\n",
    "    #instance method is able to modify both class and instance attributes\n",
    "        "
   ]
  },
  {
   "cell_type": "code",
   "execution_count": 19,
   "id": "db3c9d70",
   "metadata": {},
   "outputs": [
    {
     "name": "stdout",
     "output_type": "stream",
     "text": [
      "gmail\n",
      "john.smith@gmail.com\n"
     ]
    }
   ],
   "source": [
    "emp1 = Employee('john','smith')\n",
    "emp1.change_company('gmail')\n",
    "print(emp1.get_email())"
   ]
  },
  {
   "cell_type": "markdown",
   "id": "32b99e20",
   "metadata": {},
   "source": [
    "**Static methods : A static method does not receive an implicit first argument.**\n",
    "- A static method is also a method that is bound to the class and not the object of the class. \n",
    "- This method can’t access or modify the class state.\n",
    "- It is present in a class because it makes sense for the method to be present in class."
   ]
  },
  {
   "cell_type": "code",
   "execution_count": 20,
   "id": "1c9369d1",
   "metadata": {},
   "outputs": [],
   "source": [
    "class Employee :\n",
    "    company = 'youtube' \n",
    "    \n",
    "    def __init__(self, first_name, last_name): \n",
    "        self.first_name = first_name \n",
    "        self.last_name = last_name\n",
    "    \n",
    "    def get_email(self):\n",
    "        return f'{self.first_name}.{self.last_name}@{Employee.company}.com'\n",
    "    \n",
    "    \n",
    "    def change_company(name):\n",
    "        Employee.company = name\n",
    "        print(Employee.company)\n",
    "        \n",
    "emp1 = Employee('john','smith')  "
   ]
  },
  {
   "cell_type": "code",
   "execution_count": null,
   "id": "b62eaee6",
   "metadata": {},
   "outputs": [],
   "source": []
  },
  {
   "cell_type": "code",
   "execution_count": 21,
   "id": "3cf37ef0",
   "metadata": {},
   "outputs": [],
   "source": [
    "# emp1.change_company('gmail') gives error : Employee.change_company() takes 1 positional argument but 2 were given"
   ]
  },
  {
   "cell_type": "markdown",
   "id": "c5c1d21a",
   "metadata": {},
   "source": [
    "**Class methods : These methods take class as arguement.**\n",
    "- A class method is a method that is bound to the class and not the object of the class.\n",
    "- They have the access to the state of the class as it takes a class parameter that points to the class and not the object instance.\n",
    "- It can modify a class state that would apply across all the instances of the class. For example, it can modify a class variable that will be applicable to all the instances.\n"
   ]
  },
  {
   "cell_type": "code",
   "execution_count": 22,
   "id": "160eaac0",
   "metadata": {},
   "outputs": [],
   "source": [
    "class Employee :\n",
    "    company = 'youtube' \n",
    "    \n",
    "    def __init__(self, first_name, last_name): \n",
    "        self.first_name = first_name \n",
    "        self.last_name = last_name\n",
    "    \n",
    "    def get_email(self):\n",
    "        return f'{self.first_name}.{self.last_name}@{Employee.company}.com'\n",
    "    \n",
    "    @classmethod\n",
    "    def change_company(cls,name):\n",
    "        cls.company = name\n",
    "        print(Employee.company)\n",
    "        \n",
    "emp1 = Employee('john','smith')   "
   ]
  },
  {
   "cell_type": "code",
   "execution_count": 23,
   "id": "d2cf67e2",
   "metadata": {},
   "outputs": [
    {
     "name": "stdout",
     "output_type": "stream",
     "text": [
      "twitter\n"
     ]
    }
   ],
   "source": [
    "emp1.change_company('twitter')"
   ]
  },
  {
   "cell_type": "code",
   "execution_count": 24,
   "id": "a3ed256f",
   "metadata": {},
   "outputs": [
    {
     "name": "stdout",
     "output_type": "stream",
     "text": [
      "REDDIT\n"
     ]
    }
   ],
   "source": [
    "Employee.change_company('REDDIT')"
   ]
  },
  {
   "cell_type": "markdown",
   "id": "c4f77b08",
   "metadata": {},
   "source": [
    "### Inner Class :\n",
    "- A class inside a class\n",
    "- Two separate classes can be made, but sometimes we might need class inside a class\n",
    "- We assume Laptop class will only be used by Student class"
   ]
  },
  {
   "cell_type": "code",
   "execution_count": 31,
   "id": "3692df33",
   "metadata": {},
   "outputs": [],
   "source": [
    "class Student : #Outer Class\n",
    "    \n",
    "    def __init__(self,name,rollno):\n",
    "        self.name = name\n",
    "        self.rollno = rollno\n",
    "        self.lap = self.Laptop() #creating object of Laptop class\n",
    "    \n",
    "    def show(self):\n",
    "        print(self.name,self.rollno)\n",
    "    \n",
    "    class Laptop : #Inner Class\n",
    "        def __init__(self):\n",
    "            self.brand = 'HP'\n",
    "            self.cpu = 'i5'\n",
    "            self.ram = 8"
   ]
  },
  {
   "cell_type": "code",
   "execution_count": 32,
   "id": "8441f047",
   "metadata": {},
   "outputs": [],
   "source": [
    "s1 = Student('Navin',2)\n",
    "s2 = Student('Jenny',3)"
   ]
  },
  {
   "cell_type": "code",
   "execution_count": 33,
   "id": "4cbc964f",
   "metadata": {},
   "outputs": [
    {
     "data": {
      "text/plain": [
       "False"
      ]
     },
     "execution_count": 33,
     "metadata": {},
     "output_type": "execute_result"
    }
   ],
   "source": [
    "lap1 = s1.lap\n",
    "lap2 = s2.lap\n",
    "(lap1==lap2)"
   ]
  },
  {
   "cell_type": "code",
   "execution_count": 34,
   "id": "7b0d3da9",
   "metadata": {},
   "outputs": [],
   "source": [
    "lap3 = Student.Laptop()"
   ]
  },
  {
   "cell_type": "code",
   "execution_count": 36,
   "id": "8dd57be9",
   "metadata": {},
   "outputs": [
    {
     "name": "stdout",
     "output_type": "stream",
     "text": [
      "{'brand': 'HP', 'cpu': 'i5', 'ram': 8}\n"
     ]
    }
   ],
   "source": [
    "print(vars(lap3))"
   ]
  },
  {
   "cell_type": "markdown",
   "id": "e3624d5e",
   "metadata": {},
   "source": [
    "### Inheritance :\n",
    "- When One class inherits properties of parent class.\n",
    "\n",
    "**Single Inheritance : B->A** "
   ]
  },
  {
   "cell_type": "code",
   "execution_count": 41,
   "id": "f58fe989",
   "metadata": {},
   "outputs": [],
   "source": [
    "class A: #Parent class\n",
    "    def feature1(self):\n",
    "        print('Feature 1 working')\n",
    "        \n",
    "    def feature2(self):\n",
    "        print('Feature 2 working')\n",
    "        \n",
    "class B  (A): #Child Class\n",
    "    def feature3(self):\n",
    "        print('Feature 3 working')\n",
    "    \n",
    "    def feature4(self):\n",
    "        print('Feature 4 working')"
   ]
  },
  {
   "cell_type": "code",
   "execution_count": 42,
   "id": "aa12a6a8",
   "metadata": {},
   "outputs": [
    {
     "name": "stdout",
     "output_type": "stream",
     "text": [
      "Feature 1 working\n",
      "Feature 2 working\n"
     ]
    }
   ],
   "source": [
    "a1 = A()\n",
    "a1.feature1()\n",
    "a1.feature2()"
   ]
  },
  {
   "cell_type": "code",
   "execution_count": 43,
   "id": "64681a96",
   "metadata": {},
   "outputs": [
    {
     "name": "stdout",
     "output_type": "stream",
     "text": [
      "Feature 1 working\n",
      "Feature 2 working\n",
      "Feature 3 working\n",
      "Feature 4 working\n"
     ]
    }
   ],
   "source": [
    "b1 = B()\n",
    "b1.feature1()\n",
    "b1.feature2()\n",
    "b1.feature3()\n",
    "b1.feature4()"
   ]
  },
  {
   "cell_type": "markdown",
   "id": "31f25fe5",
   "metadata": {},
   "source": [
    "**Multi-Level Inheritance : C->B->A** "
   ]
  },
  {
   "cell_type": "code",
   "execution_count": 1,
   "id": "261998c3",
   "metadata": {},
   "outputs": [],
   "source": [
    "class A: #Parent class\n",
    "    def feature1(self):\n",
    "        print('Feature 1 working')\n",
    "        \n",
    "    def feature2(self):\n",
    "        print('Feature 2 working')\n",
    "        \n",
    "class B  (A): #Child Class\n",
    "    def feature3(self):\n",
    "        print('Feature 3 working')\n",
    "    \n",
    "    def feature4(self):\n",
    "        print('Feature 4 working')\n",
    "class C (B):\n",
    "    def feature5(self):\n",
    "        print('Feature 5 working')"
   ]
  },
  {
   "cell_type": "code",
   "execution_count": 2,
   "id": "06af6d61",
   "metadata": {},
   "outputs": [
    {
     "name": "stdout",
     "output_type": "stream",
     "text": [
      "Feature 1 working\n",
      "Feature 3 working\n",
      "Feature 5 working\n"
     ]
    }
   ],
   "source": [
    "c1 = C()\n",
    "c1.feature1()\n",
    "c1.feature3()\n",
    "c1.feature5()"
   ]
  },
  {
   "cell_type": "markdown",
   "id": "ad54623d",
   "metadata": {},
   "source": [
    "### Multiple Inheritance : C->B & C->A"
   ]
  },
  {
   "cell_type": "code",
   "execution_count": 3,
   "id": "83a7ae6e",
   "metadata": {},
   "outputs": [],
   "source": [
    "class A: #Parent class\n",
    "    def feature1(self):\n",
    "        print('Feature 1 working')\n",
    "        \n",
    "    def feature2(self):\n",
    "        print('Feature 2 working')\n",
    "        \n",
    "class B: #Child Class\n",
    "    def feature3(self):\n",
    "        print('Feature 3 working')\n",
    "    \n",
    "    def feature4(self):\n",
    "        print('Feature 4 working')\n",
    "class C (A,B):\n",
    "    def feature5(self):\n",
    "        print('Feature 5 working')"
   ]
  },
  {
   "cell_type": "code",
   "execution_count": 4,
   "id": "27a4fb9b",
   "metadata": {},
   "outputs": [
    {
     "name": "stdout",
     "output_type": "stream",
     "text": [
      "Feature 1 working\n",
      "Feature 3 working\n",
      "Feature 5 working\n"
     ]
    }
   ],
   "source": [
    "c1 = C()\n",
    "c1.feature1()\n",
    "c1.feature3()\n",
    "c1.feature5()"
   ]
  },
  {
   "cell_type": "markdown",
   "id": "a90955ed",
   "metadata": {},
   "source": [
    "### Constructor Inheritance :\n",
    "- First, The instance object looks for init constructor inside the class it belongs to.\n",
    "- If it doesn't find inside the class, it tries to find the init constructor in superclass."
   ]
  },
  {
   "cell_type": "code",
   "execution_count": 13,
   "id": "e7b2cd98",
   "metadata": {},
   "outputs": [],
   "source": [
    "class A: #Parent class\n",
    "    def __init__(self):\n",
    "        print('In A init')\n",
    "        \n",
    "    def feature1(self):\n",
    "        print('Feature 1 working')\n",
    "        \n",
    "    def feature2(self):\n",
    "        print('Feature 2 working')\n",
    "        \n",
    "class B(A): #Child Class\n",
    "    def feature3(self):\n",
    "        print('Feature 3 working')\n",
    "    \n",
    "    def feature4(self):\n",
    "        print('Feature 4 working')\n"
   ]
  },
  {
   "cell_type": "code",
   "execution_count": 14,
   "id": "f2334a50",
   "metadata": {},
   "outputs": [
    {
     "name": "stdout",
     "output_type": "stream",
     "text": [
      "In A init\n"
     ]
    }
   ],
   "source": [
    "a1 = A()"
   ]
  },
  {
   "cell_type": "code",
   "execution_count": 15,
   "id": "03fe6b02",
   "metadata": {},
   "outputs": [
    {
     "name": "stdout",
     "output_type": "stream",
     "text": [
      "In A init\n"
     ]
    }
   ],
   "source": [
    "b1 = B()"
   ]
  },
  {
   "cell_type": "code",
   "execution_count": 16,
   "id": "c467ec14",
   "metadata": {},
   "outputs": [],
   "source": [
    "class A: #Parent class\n",
    "    def __init__(self):\n",
    "        print('In A init')\n",
    "        \n",
    "    def feature1(self):\n",
    "        print('Feature 1 working')\n",
    "        \n",
    "    def feature2(self):\n",
    "        print('Feature 2 working')\n",
    "        \n",
    "class B(A): #Child Class\n",
    "    def __init__(self):\n",
    "        print('In B init')\n",
    "    \n",
    "    def feature3(self):\n",
    "        print('Feature 3 working')\n",
    "    \n",
    "    def feature4(self):\n",
    "        print('Feature 4 working')"
   ]
  },
  {
   "cell_type": "code",
   "execution_count": 17,
   "id": "f9b32335",
   "metadata": {},
   "outputs": [
    {
     "name": "stdout",
     "output_type": "stream",
     "text": [
      "In B init\n"
     ]
    }
   ],
   "source": [
    "b1 = B()"
   ]
  },
  {
   "cell_type": "markdown",
   "id": "e714c4ae",
   "metadata": {},
   "source": [
    "Now if we want to access the init constuctor of superclass with original class' init constuctor."
   ]
  },
  {
   "cell_type": "code",
   "execution_count": 20,
   "id": "72425481",
   "metadata": {},
   "outputs": [],
   "source": [
    "class A: #Parent class\n",
    "    def __init__(self):\n",
    "        print('In A init')\n",
    "        \n",
    "    def feature1(self):\n",
    "        print('Feature 1 working')\n",
    "        \n",
    "    def feature2(self):\n",
    "        print('Feature 2 working')\n",
    "        \n",
    "class B(A): #Child Class\n",
    "    def __init__(self):\n",
    "        super().__init__()\n",
    "        print('In B init')\n",
    "\n",
    "#Using super() we can access attributes and methods of parent class\n",
    "    def feature3(self):\n",
    "        print('Feature 3 working')\n",
    "    \n",
    "    def feature4(self):\n",
    "        print('Feature 4 working')"
   ]
  },
  {
   "cell_type": "code",
   "execution_count": 21,
   "id": "acc61927",
   "metadata": {},
   "outputs": [
    {
     "name": "stdout",
     "output_type": "stream",
     "text": [
      "In A init\n",
      "In B init\n"
     ]
    }
   ],
   "source": [
    "b1 = B()"
   ]
  },
  {
   "cell_type": "markdown",
   "id": "3f99fcc8",
   "metadata": {},
   "source": [
    "### Method Resolution Order :\n",
    "- In case of Multiple Inheritance, if we try to call method with same name in parent classes. Then, the class inherited 1st or the left most is executed."
   ]
  },
  {
   "cell_type": "code",
   "execution_count": 27,
   "id": "7b18693e",
   "metadata": {},
   "outputs": [],
   "source": [
    "class A: #Parent class\n",
    "    def __init__(self):\n",
    "        print('In A init')\n",
    "        \n",
    "    def feature1(self):\n",
    "        print('Feature 1 working')\n",
    "        \n",
    "    def feature2(self):\n",
    "        print('Feature 2 working')\n",
    "        \n",
    "class B: #Child Class\n",
    "    def __init__(self):\n",
    "        print('In B init')\n",
    "\n",
    "    def feature3(self):\n",
    "        print('Feature 3 working')\n",
    "    \n",
    "    def feature4(self):\n",
    "        print('Feature 4 working')\n",
    "        \n",
    "class C(A,B):\n",
    "    def __init__(self):\n",
    "        super().__init__()\n",
    "        print('In C init')\n",
    "    "
   ]
  },
  {
   "cell_type": "code",
   "execution_count": 28,
   "id": "8a4a0263",
   "metadata": {},
   "outputs": [
    {
     "name": "stdout",
     "output_type": "stream",
     "text": [
      "In A init\n",
      "In C init\n"
     ]
    }
   ],
   "source": [
    "c1 = C()"
   ]
  },
  {
   "cell_type": "markdown",
   "id": "cd981a9f",
   "metadata": {},
   "source": [
    "### Polymorphism :"
   ]
  },
  {
   "cell_type": "code",
   "execution_count": null,
   "id": "698f1fe2",
   "metadata": {},
   "outputs": [],
   "source": []
  }
 ],
 "metadata": {
  "kernelspec": {
   "display_name": "Python 3 (ipykernel)",
   "language": "python",
   "name": "python3"
  },
  "language_info": {
   "codemirror_mode": {
    "name": "ipython",
    "version": 3
   },
   "file_extension": ".py",
   "mimetype": "text/x-python",
   "name": "python",
   "nbconvert_exporter": "python",
   "pygments_lexer": "ipython3",
   "version": "3.10.5"
  }
 },
 "nbformat": 4,
 "nbformat_minor": 5
}
